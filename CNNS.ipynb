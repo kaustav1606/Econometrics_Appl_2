{
  "cells": [
    {
      "cell_type": "markdown",
      "id": "a51e704e",
      "metadata": {
        "id": "a51e704e"
      },
      "source": [
        "# CNNS survey"
      ]
    },
    {
      "cell_type": "code",
      "execution_count": null,
      "id": "c1996449",
      "metadata": {
        "id": "c1996449",
        "outputId": "5d51ae01-2b7a-48be-c1d1-19cba5badc1e"
      },
      "outputs": [
        {
          "name": "stdout",
          "output_type": "stream",
          "text": [
            "Collecting plotly\n",
            "  Downloading plotly-5.14.1-py2.py3-none-any.whl (15.3 MB)\n",
            "     |████████████████████████████████| 15.3 MB 5.9 MB/s            \n",
            "\u001b[?25hRequirement already satisfied: packaging in /opt/conda/lib/python3.9/site-packages (from plotly) (21.2)\n",
            "Collecting tenacity>=6.2.0\n",
            "  Downloading tenacity-8.2.2-py3-none-any.whl (24 kB)\n",
            "Requirement already satisfied: pyparsing<3,>=2.0.2 in /opt/conda/lib/python3.9/site-packages (from packaging->plotly) (2.4.7)\n",
            "Installing collected packages: tenacity, plotly\n",
            "Successfully installed plotly-5.14.1 tenacity-8.2.2\n",
            "Note: you may need to restart the kernel to use updated packages.\n"
          ]
        }
      ],
      "source": [
        "pip install plotly"
      ]
    },
    {
      "cell_type": "markdown",
      "source": [
        "\n",
        "Two questions studied in the analysis\n",
        "1. BMI and RBC folate association\n",
        "2. Childhood Obesity and its determinants :  \n",
        "\n",
        "    two indicators of obesity :  BMI and waist circumference\n",
        "\n",
        "    Determinants considered -  Diet : glucose, cholesterol, types of eating,  Socio-economic Status (SES): rural urban, gender, age\n"
      ],
      "metadata": {
        "id": "TRxPl4QTxrdg"
      },
      "id": "TRxPl4QTxrdg"
    },
    {
      "cell_type": "markdown",
      "source": [
        "# BMI and RBC folate association"
      ],
      "metadata": {
        "id": "h7WzvqSM8O_P"
      },
      "id": "h7WzvqSM8O_P"
    },
    {
      "cell_type": "markdown",
      "id": "1d5fe64d",
      "metadata": {
        "id": "1d5fe64d"
      },
      "source": [
        "1. Question: Using CNNS survey data we study the impact of BMI on RBC folate for children in the state of West Bengal in India applying non-parametric regression\n",
        "\n",
        "    Finding : Higher BMI is associated with RBC folate"
      ]
    },
    {
      "cell_type": "raw",
      "id": "bd6d9168",
      "metadata": {
        "id": "bd6d9168"
      },
      "source": [
        "Folate is a B vitamin that helps your child’s body develop correctly and gives them energy.\n",
        "Kids need folate from before birth through their early development and all the way into adulthood.\n",
        "Folate is found in many whole foods as well as fortified foods that children like.\n",
        "Like folic acid for kids, folate also comes in supplement form, which is useful for picky eaters and children who don’t have much appetite."
      ]
    },
    {
      "cell_type": "code",
      "execution_count": null,
      "id": "96c6f1a2",
      "metadata": {
        "id": "96c6f1a2"
      },
      "outputs": [],
      "source": [
        "import numpy as np # linear algebra\n",
        "import pandas as pd # data processing, CSV file I/O (e.g. pd.read_csv)\n",
        "import matplotlib.pyplot as plt\n",
        "import scipy.stats as stats\n",
        "%matplotlib inline\n",
        "from mpl_toolkits.mplot3d import Axes3D\n",
        "from scipy.stats import multivariate_normal\n",
        "import random\n",
        "import plotly.express as px\n",
        "import plotly.graph_objs as go\n",
        "from statsmodels.nonparametric.kernel_regression import KernelReg as kr\n",
        "import seaborn as sns\n",
        "import statsmodels.api as sm\n",
        "import statsmodels.stats.api as sms\n",
        "from statsmodels.compat import lzip\n",
        "import statsmodels.formula.api as smf\n",
        "from statsmodels.nonparametric.kernels import aitchison_aitken\n",
        "from statsmodels.nonparametric.kernels import gaussian\n",
        "from scipy.stats import skew\n"
      ]
    },
    {
      "cell_type": "code",
      "execution_count": null,
      "id": "eb075a12",
      "metadata": {
        "id": "eb075a12"
      },
      "outputs": [],
      "source": [
        "WestBengal_df = pd.read_csv('WB1.csv')"
      ]
    },
    {
      "cell_type": "code",
      "execution_count": null,
      "id": "60208a73",
      "metadata": {
        "id": "60208a73"
      },
      "outputs": [],
      "source": [
        "WestBengal_df['area_D'] = np.where(WestBengal_df['area'] == 1, 1, 0)\n",
        "#rural = 1 urban =0"
      ]
    },
    {
      "cell_type": "code",
      "execution_count": null,
      "id": "b89d7016",
      "metadata": {
        "id": "b89d7016"
      },
      "outputs": [],
      "source": [
        "WestBengal_df['q102_D'] = np.where(WestBengal_df['q102'] == 1, 1, 0)\n",
        "#male = 1 female =0"
      ]
    },
    {
      "cell_type": "code",
      "execution_count": null,
      "id": "55433de6",
      "metadata": {
        "id": "55433de6"
      },
      "outputs": [],
      "source": [
        "##'q103y','q104', 'q118', 'q306a','q306j', 'q306o', 'q306p', 'q306q', 'q901r1', 'height', 'wc', 'z_wc', '@_cbmi', '@_zwfa', '@_zhfa', '@_zbfa'\n",
        "## coding data based on metadata - converting to dummy variable\n",
        "\n",
        "WestBengal_df['wi_s'] = WestBengal_df['wi_s'].replace(1, 0)\n",
        "WestBengal_df['wi_s'] = WestBengal_df['wi_s'].replace(2, 0)\n",
        "WestBengal_df['wi_s'] = WestBengal_df['wi_s'].replace(3, 0)\n",
        "WestBengal_df['wi_s'] = WestBengal_df['wi_s'].replace(4, 1)\n",
        "WestBengal_df['wi_s'] = WestBengal_df['wi_s'].replace(5, 1)"
      ]
    },
    {
      "cell_type": "code",
      "execution_count": null,
      "id": "326ab36c",
      "metadata": {
        "id": "326ab36c"
      },
      "outputs": [],
      "source": [
        "## coding data based on metadata\n",
        "\n",
        "WestBengal_df['q306a'] = WestBengal_df['q306a'].replace(8, 0.5)\n",
        "WestBengal_df['q306a'] = WestBengal_df['q306a'].replace(9, 0)\n",
        "WestBengal_df['q306b'] = WestBengal_df['q306b'].replace(8, 0.5)\n",
        "WestBengal_df['q306b'] = WestBengal_df['q306b'].replace(9, 0)\n",
        "WestBengal_df['q306c'] = WestBengal_df['q306c'].replace(8, 0.5)\n",
        "WestBengal_df['q306c'] = WestBengal_df['q306c'].replace(9, 0)\n",
        "WestBengal_df['q306d'] = WestBengal_df['q306d'].replace(8, 0.5)\n",
        "WestBengal_df['q306d'] = WestBengal_df['q306d'].replace(9, 0)\n",
        "WestBengal_df['q306e'] = WestBengal_df['q306e'].replace(8, 0.5)\n",
        "WestBengal_df['q306e'] = WestBengal_df['q306e'].replace(9, 0)\n",
        "WestBengal_df['q306f'] = WestBengal_df['q306f'].replace(9, 0)\n",
        "WestBengal_df['q306f'] = WestBengal_df['q306f'].replace(8, 0.5)\n",
        "WestBengal_df['q306g'] = WestBengal_df['q306g'].replace(9, 0)\n",
        "WestBengal_df['q306g'] = WestBengal_df['q306g'].replace(8, 0.5)\n",
        "WestBengal_df['q306h'] = WestBengal_df['q306h'].replace(9, 0)\n",
        "WestBengal_df['q306h'] = WestBengal_df['q306h'].replace(8, 0.5)\n",
        "WestBengal_df['q306i'] = WestBengal_df['q306i'].replace(9, 0)\n",
        "WestBengal_df['q306i'] = WestBengal_df['q306i'].replace(8, 0.5)\n",
        "WestBengal_df['q306j'] = WestBengal_df['q306j'].replace(9, 0)\n",
        "WestBengal_df['q306j'] = WestBengal_df['q306j'].replace(8, 0.5)\n",
        "WestBengal_df['q306k'] = WestBengal_df['q306k'].replace(9, 0)\n",
        "WestBengal_df['q306k'] = WestBengal_df['q306k'].replace(8, 0.5)\n",
        "WestBengal_df['q306l'] = WestBengal_df['q306l'].replace(9, 0)\n",
        "WestBengal_df['q306l'] = WestBengal_df['q306l'].replace(8, 0.5)\n",
        "WestBengal_df['q306m'] = WestBengal_df['q306m'].replace(9, 0)\n",
        "WestBengal_df['q306m'] = WestBengal_df['q306m'].replace(8, 0.5)\n",
        "WestBengal_df['q306n'] = WestBengal_df['q306n'].replace(9, 0)\n",
        "WestBengal_df['q306n'] = WestBengal_df['q306n'].replace(8, 0.5)\n",
        "WestBengal_df['q306o'] = WestBengal_df['q306o'].replace(9, 0)\n",
        "WestBengal_df['q306o'] = WestBengal_df['q306o'].replace(8, 0.5)\n",
        "WestBengal_df['q306p'] = WestBengal_df['q306p'].replace(9, 0)\n",
        "WestBengal_df['q306p'] = WestBengal_df['q306p'].replace(8, 0.5)\n",
        "WestBengal_df['q306q'] = WestBengal_df['q306q'].replace(9, 0)\n",
        "WestBengal_df['q306q'] = WestBengal_df['q306q'].replace(8, 0.5)"
      ]
    },
    {
      "cell_type": "code",
      "execution_count": null,
      "id": "f8773c35",
      "metadata": {
        "id": "f8773c35",
        "outputId": "14e4172f-4f7d-49ad-81de-f2e25c50bdbe"
      },
      "outputs": [
        {
          "data": {
            "text/html": [
              "<div>\n",
              "<style scoped>\n",
              "    .dataframe tbody tr th:only-of-type {\n",
              "        vertical-align: middle;\n",
              "    }\n",
              "\n",
              "    .dataframe tbody tr th {\n",
              "        vertical-align: top;\n",
              "    }\n",
              "\n",
              "    .dataframe thead th {\n",
              "        text-align: right;\n",
              "    }\n",
              "</style>\n",
              "<table border=\"1\" class=\"dataframe\">\n",
              "  <thead>\n",
              "    <tr style=\"text-align: right;\">\n",
              "      <th></th>\n",
              "      <th>caseid</th>\n",
              "      <th>state</th>\n",
              "      <th>area</th>\n",
              "      <th>psu_no</th>\n",
              "      <th>psu_no_ov</th>\n",
              "      <th>region</th>\n",
              "      <th>hh_no</th>\n",
              "      <th>int_d</th>\n",
              "      <th>int_m</th>\n",
              "      <th>int_y</th>\n",
              "      <th>...</th>\n",
              "      <th>nat_weight_bio</th>\n",
              "      <th>nat_weight_survey</th>\n",
              "      <th>fasting_status</th>\n",
              "      <th>pct</th>\n",
              "      <th>percent</th>\n",
              "      <th>pct1</th>\n",
              "      <th>percent1</th>\n",
              "      <th>treat</th>\n",
              "      <th>area_D</th>\n",
              "      <th>q102_D</th>\n",
              "    </tr>\n",
              "  </thead>\n",
              "  <tbody>\n",
              "    <tr>\n",
              "      <th>0</th>\n",
              "      <td>19101216405</td>\n",
              "      <td>19</td>\n",
              "      <td>1</td>\n",
              "      <td>12</td>\n",
              "      <td>1147</td>\n",
              "      <td>3</td>\n",
              "      <td>164</td>\n",
              "      <td>6</td>\n",
              "      <td>9</td>\n",
              "      <td>2018</td>\n",
              "      <td>...</td>\n",
              "      <td>3.866231</td>\n",
              "      <td>5.059042</td>\n",
              "      <td>YES</td>\n",
              "      <td>13.146570</td>\n",
              "      <td>5.0</td>\n",
              "      <td>-3.28</td>\n",
              "      <td>5.0</td>\n",
              "      <td>1</td>\n",
              "      <td>1</td>\n",
              "      <td>1</td>\n",
              "    </tr>\n",
              "    <tr>\n",
              "      <th>1</th>\n",
              "      <td>19102033703</td>\n",
              "      <td>19</td>\n",
              "      <td>1</td>\n",
              "      <td>20</td>\n",
              "      <td>1155</td>\n",
              "      <td>3</td>\n",
              "      <td>337</td>\n",
              "      <td>24</td>\n",
              "      <td>7</td>\n",
              "      <td>2018</td>\n",
              "      <td>...</td>\n",
              "      <td>4.186183</td>\n",
              "      <td>5.325547</td>\n",
              "      <td>YES</td>\n",
              "      <td>13.794621</td>\n",
              "      <td>10.0</td>\n",
              "      <td>-2.83</td>\n",
              "      <td>10.0</td>\n",
              "      <td>1</td>\n",
              "      <td>1</td>\n",
              "      <td>0</td>\n",
              "    </tr>\n",
              "    <tr>\n",
              "      <th>2</th>\n",
              "      <td>19211010504</td>\n",
              "      <td>19</td>\n",
              "      <td>2</td>\n",
              "      <td>110</td>\n",
              "      <td>1245</td>\n",
              "      <td>3</td>\n",
              "      <td>105</td>\n",
              "      <td>19</td>\n",
              "      <td>8</td>\n",
              "      <td>2018</td>\n",
              "      <td>...</td>\n",
              "      <td>NaN</td>\n",
              "      <td>0.774117</td>\n",
              "      <td></td>\n",
              "      <td>14.276794</td>\n",
              "      <td>15.0</td>\n",
              "      <td>-2.47</td>\n",
              "      <td>15.0</td>\n",
              "      <td>1</td>\n",
              "      <td>0</td>\n",
              "      <td>0</td>\n",
              "    </tr>\n",
              "    <tr>\n",
              "      <th>3</th>\n",
              "      <td>19204318205</td>\n",
              "      <td>19</td>\n",
              "      <td>2</td>\n",
              "      <td>43</td>\n",
              "      <td>1178</td>\n",
              "      <td>3</td>\n",
              "      <td>182</td>\n",
              "      <td>28</td>\n",
              "      <td>8</td>\n",
              "      <td>2018</td>\n",
              "      <td>...</td>\n",
              "      <td>NaN</td>\n",
              "      <td>0.542395</td>\n",
              "      <td></td>\n",
              "      <td>14.888384</td>\n",
              "      <td>20.0</td>\n",
              "      <td>-2.22</td>\n",
              "      <td>20.0</td>\n",
              "      <td>1</td>\n",
              "      <td>0</td>\n",
              "      <td>1</td>\n",
              "    </tr>\n",
              "    <tr>\n",
              "      <th>4</th>\n",
              "      <td>19208010905</td>\n",
              "      <td>19</td>\n",
              "      <td>2</td>\n",
              "      <td>80</td>\n",
              "      <td>1215</td>\n",
              "      <td>3</td>\n",
              "      <td>109</td>\n",
              "      <td>29</td>\n",
              "      <td>6</td>\n",
              "      <td>2018</td>\n",
              "      <td>...</td>\n",
              "      <td>NaN</td>\n",
              "      <td>0.470647</td>\n",
              "      <td></td>\n",
              "      <td>15.402600</td>\n",
              "      <td>25.0</td>\n",
              "      <td>-2.02</td>\n",
              "      <td>25.0</td>\n",
              "      <td>1</td>\n",
              "      <td>0</td>\n",
              "      <td>1</td>\n",
              "    </tr>\n",
              "    <tr>\n",
              "      <th>...</th>\n",
              "      <td>...</td>\n",
              "      <td>...</td>\n",
              "      <td>...</td>\n",
              "      <td>...</td>\n",
              "      <td>...</td>\n",
              "      <td>...</td>\n",
              "      <td>...</td>\n",
              "      <td>...</td>\n",
              "      <td>...</td>\n",
              "      <td>...</td>\n",
              "      <td>...</td>\n",
              "      <td>...</td>\n",
              "      <td>...</td>\n",
              "      <td>...</td>\n",
              "      <td>...</td>\n",
              "      <td>...</td>\n",
              "      <td>...</td>\n",
              "      <td>...</td>\n",
              "      <td>...</td>\n",
              "      <td>...</td>\n",
              "      <td>...</td>\n",
              "    </tr>\n",
              "    <tr>\n",
              "      <th>1463</th>\n",
              "      <td>19102218803</td>\n",
              "      <td>19</td>\n",
              "      <td>1</td>\n",
              "      <td>22</td>\n",
              "      <td>1157</td>\n",
              "      <td>3</td>\n",
              "      <td>188</td>\n",
              "      <td>1</td>\n",
              "      <td>7</td>\n",
              "      <td>2018</td>\n",
              "      <td>...</td>\n",
              "      <td>NaN</td>\n",
              "      <td>4.505695</td>\n",
              "      <td></td>\n",
              "      <td>NaN</td>\n",
              "      <td>NaN</td>\n",
              "      <td>NaN</td>\n",
              "      <td>NaN</td>\n",
              "      <td>1</td>\n",
              "      <td>1</td>\n",
              "      <td>1</td>\n",
              "    </tr>\n",
              "    <tr>\n",
              "      <th>1464</th>\n",
              "      <td>19203816503</td>\n",
              "      <td>19</td>\n",
              "      <td>2</td>\n",
              "      <td>38</td>\n",
              "      <td>1173</td>\n",
              "      <td>3</td>\n",
              "      <td>165</td>\n",
              "      <td>18</td>\n",
              "      <td>9</td>\n",
              "      <td>2018</td>\n",
              "      <td>...</td>\n",
              "      <td>NaN</td>\n",
              "      <td>0.332355</td>\n",
              "      <td></td>\n",
              "      <td>NaN</td>\n",
              "      <td>NaN</td>\n",
              "      <td>NaN</td>\n",
              "      <td>NaN</td>\n",
              "      <td>1</td>\n",
              "      <td>0</td>\n",
              "      <td>0</td>\n",
              "    </tr>\n",
              "    <tr>\n",
              "      <th>1465</th>\n",
              "      <td>19208303803</td>\n",
              "      <td>19</td>\n",
              "      <td>2</td>\n",
              "      <td>83</td>\n",
              "      <td>1218</td>\n",
              "      <td>3</td>\n",
              "      <td>38</td>\n",
              "      <td>24</td>\n",
              "      <td>6</td>\n",
              "      <td>2018</td>\n",
              "      <td>...</td>\n",
              "      <td>0.344955</td>\n",
              "      <td>0.398277</td>\n",
              "      <td>YES</td>\n",
              "      <td>NaN</td>\n",
              "      <td>NaN</td>\n",
              "      <td>NaN</td>\n",
              "      <td>NaN</td>\n",
              "      <td>1</td>\n",
              "      <td>0</td>\n",
              "      <td>1</td>\n",
              "    </tr>\n",
              "    <tr>\n",
              "      <th>1466</th>\n",
              "      <td>19102123804</td>\n",
              "      <td>19</td>\n",
              "      <td>1</td>\n",
              "      <td>21</td>\n",
              "      <td>1156</td>\n",
              "      <td>3</td>\n",
              "      <td>238</td>\n",
              "      <td>4</td>\n",
              "      <td>7</td>\n",
              "      <td>2018</td>\n",
              "      <td>...</td>\n",
              "      <td>5.487847</td>\n",
              "      <td>7.480165</td>\n",
              "      <td></td>\n",
              "      <td>NaN</td>\n",
              "      <td>NaN</td>\n",
              "      <td>NaN</td>\n",
              "      <td>NaN</td>\n",
              "      <td>1</td>\n",
              "      <td>1</td>\n",
              "      <td>0</td>\n",
              "    </tr>\n",
              "    <tr>\n",
              "      <th>1467</th>\n",
              "      <td>19206004904</td>\n",
              "      <td>19</td>\n",
              "      <td>2</td>\n",
              "      <td>60</td>\n",
              "      <td>1195</td>\n",
              "      <td>3</td>\n",
              "      <td>49</td>\n",
              "      <td>7</td>\n",
              "      <td>8</td>\n",
              "      <td>2018</td>\n",
              "      <td>...</td>\n",
              "      <td>0.675621</td>\n",
              "      <td>1.020073</td>\n",
              "      <td>YES</td>\n",
              "      <td>NaN</td>\n",
              "      <td>NaN</td>\n",
              "      <td>NaN</td>\n",
              "      <td>NaN</td>\n",
              "      <td>1</td>\n",
              "      <td>0</td>\n",
              "      <td>0</td>\n",
              "    </tr>\n",
              "  </tbody>\n",
              "</table>\n",
              "<p>1468 rows × 128 columns</p>\n",
              "</div>"
            ],
            "text/plain": [
              "           caseid  state  area  psu_no  psu_no_ov  region  hh_no  int_d  \\\n",
              "0     19101216405     19     1      12       1147       3    164      6   \n",
              "1     19102033703     19     1      20       1155       3    337     24   \n",
              "2     19211010504     19     2     110       1245       3    105     19   \n",
              "3     19204318205     19     2      43       1178       3    182     28   \n",
              "4     19208010905     19     2      80       1215       3    109     29   \n",
              "...           ...    ...   ...     ...        ...     ...    ...    ...   \n",
              "1463  19102218803     19     1      22       1157       3    188      1   \n",
              "1464  19203816503     19     2      38       1173       3    165     18   \n",
              "1465  19208303803     19     2      83       1218       3     38     24   \n",
              "1466  19102123804     19     1      21       1156       3    238      4   \n",
              "1467  19206004904     19     2      60       1195       3     49      7   \n",
              "\n",
              "      int_m  int_y  ...  nat_weight_bio  nat_weight_survey  fasting_status  \\\n",
              "0         9   2018  ...        3.866231           5.059042             YES   \n",
              "1         7   2018  ...        4.186183           5.325547             YES   \n",
              "2         8   2018  ...             NaN           0.774117                   \n",
              "3         8   2018  ...             NaN           0.542395                   \n",
              "4         6   2018  ...             NaN           0.470647                   \n",
              "...     ...    ...  ...             ...                ...             ...   \n",
              "1463      7   2018  ...             NaN           4.505695                   \n",
              "1464      9   2018  ...             NaN           0.332355                   \n",
              "1465      6   2018  ...        0.344955           0.398277             YES   \n",
              "1466      7   2018  ...        5.487847           7.480165                   \n",
              "1467      8   2018  ...        0.675621           1.020073             YES   \n",
              "\n",
              "            pct  percent  pct1  percent1  treat  area_D  q102_D  \n",
              "0     13.146570      5.0 -3.28       5.0      1       1       1  \n",
              "1     13.794621     10.0 -2.83      10.0      1       1       0  \n",
              "2     14.276794     15.0 -2.47      15.0      1       0       0  \n",
              "3     14.888384     20.0 -2.22      20.0      1       0       1  \n",
              "4     15.402600     25.0 -2.02      25.0      1       0       1  \n",
              "...         ...      ...   ...       ...    ...     ...     ...  \n",
              "1463        NaN      NaN   NaN       NaN      1       1       1  \n",
              "1464        NaN      NaN   NaN       NaN      1       0       0  \n",
              "1465        NaN      NaN   NaN       NaN      1       0       1  \n",
              "1466        NaN      NaN   NaN       NaN      1       1       0  \n",
              "1467        NaN      NaN   NaN       NaN      1       0       0  \n",
              "\n",
              "[1468 rows x 128 columns]"
            ]
          },
          "execution_count": 25,
          "metadata": {},
          "output_type": "execute_result"
        }
      ],
      "source": [
        "WestBengal_df"
      ]
    },
    {
      "cell_type": "code",
      "execution_count": null,
      "id": "9150f24c",
      "metadata": {
        "id": "9150f24c"
      },
      "outputs": [],
      "source": [
        "WestBengal_df = WestBengal_df.replace({' ': np.nan})\n",
        "\n",
        "##'q103y','q104', 'q118', 'q306a','q306j', 'q306o', 'q306p', 'q306q', 'q901r1', 'height', 'wc', 'z_wc', '@_cbmi', '@_zwfa', '@_zhfa', '@_zbfa'"
      ]
    },
    {
      "cell_type": "raw",
      "id": "e46f7f0d",
      "metadata": {
        "id": "e46f7f0d"
      },
      "source": [
        "subset_df = WestBengal_df1[['q102','q103m','q103y','q104', 'q111m', 'q111y','q112' ,'q113y','q113m','q114','q115', 'q116', 'q117', 'q118', 'q125', 'q201A', 'q201B', 'q201C', 'q201D', 'q201E', 'q201F', 'q201G', 'q201H', 'q201I', 'q201J', 'q201X', 'q201Y', 'q201o', 'q301', 'q302', 'q303', 'q304', 'q305', 'q305o', 'q306a', 'q306b', 'q306c', 'q306d', 'q306e', 'q306f', 'q306g', 'q306h', 'q306i', 'q306j', 'q306k', 'q306l', 'q306m', 'q306n', 'q306o', 'q306p', 'q306q', 'q901r1', 'q902r1', 'q902r2', 'q903r1', 'q903r2', 'q904r1', 'q904r2', 'q905r1', 'q905r2', 'q906r1', 'q906r2', 'height', 'muac', 'tsft', 'ssft', 'wc', 'agemons', 'z_wc', 'z_tsft', 'z_ssft', 'z_muac', '@_cbmi', '@_zwfa', '@_zhfa', '@_zbfa', '@_fwfa', '@_fhfa', '@_fbfa', 'hgbn_alt_unic', 'crp1_dunic', 'creat_unic', 'fer_unic', 'vtb12c_unic', 'hydrov_unic', 'vitaa_unic', 'zns_unic', 'rbcf_1unic', 'glus_unic', 'hb_a1c_unic', 'cho_dunic', 'tri_dunic', 'dirldl_dunic2', 'chohdl_dunic', 'uiod_unic', 'bp_unic', 'bp_sys1', 'bp_dysys1', 'bp_sys2', 'bp_dysys2', 'bp_sys3', 'bp_dysys3'\n",
        "]]"
      ]
    },
    {
      "cell_type": "code",
      "execution_count": null,
      "id": "fe2132ac",
      "metadata": {
        "id": "fe2132ac"
      },
      "outputs": [],
      "source": [
        "WestBengal_df1 = WestBengal_df.dropna(subset=['q104', 'rbcf_1unic','X___cbmi','area_D','q118','q102_D','vtb12c_unic','muac', 'X___zbfa'])"
      ]
    },
    {
      "cell_type": "code",
      "execution_count": null,
      "id": "00dd33b7",
      "metadata": {
        "id": "00dd33b7"
      },
      "outputs": [],
      "source": [
        "cont_df1 = WestBengal_df1[['q104', 'rbcf_1unic', 'X___cbmi','chohdl_dunic','hb_a1c_unic', 'cho_dunic', 'tri_dunic', 'dirldl_dunic2','glus_unic', 'tsft','muac']]"
      ]
    },
    {
      "cell_type": "code",
      "execution_count": null,
      "id": "e2c3e743",
      "metadata": {
        "id": "e2c3e743",
        "outputId": "017dc78e-8ce7-470e-8cab-2a4ebfc3b97a"
      },
      "outputs": [
        {
          "data": {
            "text/html": [
              "<div>\n",
              "<style scoped>\n",
              "    .dataframe tbody tr th:only-of-type {\n",
              "        vertical-align: middle;\n",
              "    }\n",
              "\n",
              "    .dataframe tbody tr th {\n",
              "        vertical-align: top;\n",
              "    }\n",
              "\n",
              "    .dataframe thead th {\n",
              "        text-align: right;\n",
              "    }\n",
              "</style>\n",
              "<table border=\"1\" class=\"dataframe\">\n",
              "  <thead>\n",
              "    <tr style=\"text-align: right;\">\n",
              "      <th></th>\n",
              "      <th>q104</th>\n",
              "      <th>rbcf_1unic</th>\n",
              "      <th>X___zbfa</th>\n",
              "      <th>area_D</th>\n",
              "      <th>q102_D</th>\n",
              "      <th>q118</th>\n",
              "      <th>X___cbmi</th>\n",
              "      <th>state_weight_bio</th>\n",
              "      <th>muac</th>\n",
              "    </tr>\n",
              "  </thead>\n",
              "  <tbody>\n",
              "    <tr>\n",
              "      <th>1</th>\n",
              "      <td>10</td>\n",
              "      <td>671.76</td>\n",
              "      <td>0.14</td>\n",
              "      <td>1</td>\n",
              "      <td>0</td>\n",
              "      <td>6.0</td>\n",
              "      <td>17.264424</td>\n",
              "      <td>2.731270</td>\n",
              "      <td>20.400000</td>\n",
              "    </tr>\n",
              "    <tr>\n",
              "      <th>9</th>\n",
              "      <td>10</td>\n",
              "      <td>254.18</td>\n",
              "      <td>-0.01</td>\n",
              "      <td>0</td>\n",
              "      <td>1</td>\n",
              "      <td>9.0</td>\n",
              "      <td>16.698931</td>\n",
              "      <td>0.209256</td>\n",
              "      <td>19.849998</td>\n",
              "    </tr>\n",
              "    <tr>\n",
              "      <th>24</th>\n",
              "      <td>10</td>\n",
              "      <td>450.55</td>\n",
              "      <td>-0.82</td>\n",
              "      <td>1</td>\n",
              "      <td>0</td>\n",
              "      <td>10.0</td>\n",
              "      <td>15.164392</td>\n",
              "      <td>0.999609</td>\n",
              "      <td>19.750000</td>\n",
              "    </tr>\n",
              "    <tr>\n",
              "      <th>26</th>\n",
              "      <td>10</td>\n",
              "      <td>349.82</td>\n",
              "      <td>-0.16</td>\n",
              "      <td>0</td>\n",
              "      <td>1</td>\n",
              "      <td>4.0</td>\n",
              "      <td>16.250218</td>\n",
              "      <td>0.281814</td>\n",
              "      <td>21.750000</td>\n",
              "    </tr>\n",
              "    <tr>\n",
              "      <th>31</th>\n",
              "      <td>10</td>\n",
              "      <td>779.73</td>\n",
              "      <td>-2.67</td>\n",
              "      <td>1</td>\n",
              "      <td>1</td>\n",
              "      <td>5.0</td>\n",
              "      <td>13.307631</td>\n",
              "      <td>0.822882</td>\n",
              "      <td>16.950001</td>\n",
              "    </tr>\n",
              "    <tr>\n",
              "      <th>...</th>\n",
              "      <td>...</td>\n",
              "      <td>...</td>\n",
              "      <td>...</td>\n",
              "      <td>...</td>\n",
              "      <td>...</td>\n",
              "      <td>...</td>\n",
              "      <td>...</td>\n",
              "      <td>...</td>\n",
              "      <td>...</td>\n",
              "    </tr>\n",
              "    <tr>\n",
              "      <th>1423</th>\n",
              "      <td>19</td>\n",
              "      <td>306.21</td>\n",
              "      <td>1.44</td>\n",
              "      <td>1</td>\n",
              "      <td>0</td>\n",
              "      <td>9.0</td>\n",
              "      <td>26.881574</td>\n",
              "      <td>1.849649</td>\n",
              "      <td>29.200001</td>\n",
              "    </tr>\n",
              "    <tr>\n",
              "      <th>1441</th>\n",
              "      <td>19</td>\n",
              "      <td>303.54</td>\n",
              "      <td>-2.23</td>\n",
              "      <td>0</td>\n",
              "      <td>1</td>\n",
              "      <td>5.0</td>\n",
              "      <td>17.136107</td>\n",
              "      <td>0.296577</td>\n",
              "      <td>24.400000</td>\n",
              "    </tr>\n",
              "    <tr>\n",
              "      <th>1448</th>\n",
              "      <td>19</td>\n",
              "      <td>383.35</td>\n",
              "      <td>0.00</td>\n",
              "      <td>0</td>\n",
              "      <td>0</td>\n",
              "      <td>5.0</td>\n",
              "      <td>21.411688</td>\n",
              "      <td>0.604815</td>\n",
              "      <td>24.049999</td>\n",
              "    </tr>\n",
              "    <tr>\n",
              "      <th>1449</th>\n",
              "      <td>19</td>\n",
              "      <td>548.66</td>\n",
              "      <td>-0.82</td>\n",
              "      <td>1</td>\n",
              "      <td>1</td>\n",
              "      <td>8.0</td>\n",
              "      <td>20.032230</td>\n",
              "      <td>1.387558</td>\n",
              "      <td>27.250000</td>\n",
              "    </tr>\n",
              "    <tr>\n",
              "      <th>1467</th>\n",
              "      <td>19</td>\n",
              "      <td>429.39</td>\n",
              "      <td>0.59</td>\n",
              "      <td>0</td>\n",
              "      <td>0</td>\n",
              "      <td>8.0</td>\n",
              "      <td>23.411851</td>\n",
              "      <td>0.472847</td>\n",
              "      <td>28.299999</td>\n",
              "    </tr>\n",
              "  </tbody>\n",
              "</table>\n",
              "<p>406 rows × 9 columns</p>\n",
              "</div>"
            ],
            "text/plain": [
              "      q104  rbcf_1unic  X___zbfa  area_D  q102_D  q118   X___cbmi  \\\n",
              "1       10      671.76      0.14       1       0   6.0  17.264424   \n",
              "9       10      254.18     -0.01       0       1   9.0  16.698931   \n",
              "24      10      450.55     -0.82       1       0  10.0  15.164392   \n",
              "26      10      349.82     -0.16       0       1   4.0  16.250218   \n",
              "31      10      779.73     -2.67       1       1   5.0  13.307631   \n",
              "...    ...         ...       ...     ...     ...   ...        ...   \n",
              "1423    19      306.21      1.44       1       0   9.0  26.881574   \n",
              "1441    19      303.54     -2.23       0       1   5.0  17.136107   \n",
              "1448    19      383.35      0.00       0       0   5.0  21.411688   \n",
              "1449    19      548.66     -0.82       1       1   8.0  20.032230   \n",
              "1467    19      429.39      0.59       0       0   8.0  23.411851   \n",
              "\n",
              "      state_weight_bio       muac  \n",
              "1             2.731270  20.400000  \n",
              "9             0.209256  19.849998  \n",
              "24            0.999609  19.750000  \n",
              "26            0.281814  21.750000  \n",
              "31            0.822882  16.950001  \n",
              "...                ...        ...  \n",
              "1423          1.849649  29.200001  \n",
              "1441          0.296577  24.400000  \n",
              "1448          0.604815  24.049999  \n",
              "1449          1.387558  27.250000  \n",
              "1467          0.472847  28.299999  \n",
              "\n",
              "[406 rows x 9 columns]"
            ]
          },
          "execution_count": 38,
          "metadata": {},
          "output_type": "execute_result"
        }
      ],
      "source": [
        "cont_df2 = WestBengal_df1[['q104', 'rbcf_1unic', 'X___zbfa','area_D','q102_D','q118', 'X___cbmi','state_weight_bio','muac']]\n",
        "cont_df2"
      ]
    },
    {
      "cell_type": "code",
      "execution_count": null,
      "id": "8a2ac43d",
      "metadata": {
        "id": "8a2ac43d"
      },
      "outputs": [],
      "source": [
        "cont_df1 = cont_df1.astype(float)\n",
        "cont_df2 = cont_df2.astype(float)"
      ]
    },
    {
      "cell_type": "code",
      "execution_count": null,
      "id": "f587341b",
      "metadata": {
        "id": "f587341b",
        "outputId": "8eeab079-898e-41c4-d8c7-f97503434a89"
      },
      "outputs": [
        {
          "data": {
            "text/html": [
              "<div>\n",
              "<style scoped>\n",
              "    .dataframe tbody tr th:only-of-type {\n",
              "        vertical-align: middle;\n",
              "    }\n",
              "\n",
              "    .dataframe tbody tr th {\n",
              "        vertical-align: top;\n",
              "    }\n",
              "\n",
              "    .dataframe thead th {\n",
              "        text-align: right;\n",
              "    }\n",
              "</style>\n",
              "<table border=\"1\" class=\"dataframe\">\n",
              "  <thead>\n",
              "    <tr style=\"text-align: right;\">\n",
              "      <th></th>\n",
              "      <th>q104</th>\n",
              "      <th>rbcf_1unic</th>\n",
              "      <th>X___zbfa</th>\n",
              "      <th>area_D</th>\n",
              "      <th>q102_D</th>\n",
              "      <th>q118</th>\n",
              "      <th>X___cbmi</th>\n",
              "      <th>state_weight_bio</th>\n",
              "      <th>muac</th>\n",
              "    </tr>\n",
              "  </thead>\n",
              "  <tbody>\n",
              "    <tr>\n",
              "      <th>1</th>\n",
              "      <td>10.0</td>\n",
              "      <td>671.76</td>\n",
              "      <td>0.14</td>\n",
              "      <td>1.0</td>\n",
              "      <td>0.0</td>\n",
              "      <td>6.0</td>\n",
              "      <td>17.264424</td>\n",
              "      <td>2.731270</td>\n",
              "      <td>20.400000</td>\n",
              "    </tr>\n",
              "    <tr>\n",
              "      <th>9</th>\n",
              "      <td>10.0</td>\n",
              "      <td>254.18</td>\n",
              "      <td>-0.01</td>\n",
              "      <td>0.0</td>\n",
              "      <td>1.0</td>\n",
              "      <td>9.0</td>\n",
              "      <td>16.698931</td>\n",
              "      <td>0.209256</td>\n",
              "      <td>19.849998</td>\n",
              "    </tr>\n",
              "    <tr>\n",
              "      <th>24</th>\n",
              "      <td>10.0</td>\n",
              "      <td>450.55</td>\n",
              "      <td>-0.82</td>\n",
              "      <td>1.0</td>\n",
              "      <td>0.0</td>\n",
              "      <td>10.0</td>\n",
              "      <td>15.164392</td>\n",
              "      <td>0.999609</td>\n",
              "      <td>19.750000</td>\n",
              "    </tr>\n",
              "    <tr>\n",
              "      <th>26</th>\n",
              "      <td>10.0</td>\n",
              "      <td>349.82</td>\n",
              "      <td>-0.16</td>\n",
              "      <td>0.0</td>\n",
              "      <td>1.0</td>\n",
              "      <td>4.0</td>\n",
              "      <td>16.250218</td>\n",
              "      <td>0.281814</td>\n",
              "      <td>21.750000</td>\n",
              "    </tr>\n",
              "    <tr>\n",
              "      <th>31</th>\n",
              "      <td>10.0</td>\n",
              "      <td>779.73</td>\n",
              "      <td>-2.67</td>\n",
              "      <td>1.0</td>\n",
              "      <td>1.0</td>\n",
              "      <td>5.0</td>\n",
              "      <td>13.307631</td>\n",
              "      <td>0.822882</td>\n",
              "      <td>16.950001</td>\n",
              "    </tr>\n",
              "    <tr>\n",
              "      <th>...</th>\n",
              "      <td>...</td>\n",
              "      <td>...</td>\n",
              "      <td>...</td>\n",
              "      <td>...</td>\n",
              "      <td>...</td>\n",
              "      <td>...</td>\n",
              "      <td>...</td>\n",
              "      <td>...</td>\n",
              "      <td>...</td>\n",
              "    </tr>\n",
              "    <tr>\n",
              "      <th>1423</th>\n",
              "      <td>19.0</td>\n",
              "      <td>306.21</td>\n",
              "      <td>1.44</td>\n",
              "      <td>1.0</td>\n",
              "      <td>0.0</td>\n",
              "      <td>9.0</td>\n",
              "      <td>26.881574</td>\n",
              "      <td>1.849649</td>\n",
              "      <td>29.200001</td>\n",
              "    </tr>\n",
              "    <tr>\n",
              "      <th>1441</th>\n",
              "      <td>19.0</td>\n",
              "      <td>303.54</td>\n",
              "      <td>-2.23</td>\n",
              "      <td>0.0</td>\n",
              "      <td>1.0</td>\n",
              "      <td>5.0</td>\n",
              "      <td>17.136107</td>\n",
              "      <td>0.296577</td>\n",
              "      <td>24.400000</td>\n",
              "    </tr>\n",
              "    <tr>\n",
              "      <th>1448</th>\n",
              "      <td>19.0</td>\n",
              "      <td>383.35</td>\n",
              "      <td>0.00</td>\n",
              "      <td>0.0</td>\n",
              "      <td>0.0</td>\n",
              "      <td>5.0</td>\n",
              "      <td>21.411688</td>\n",
              "      <td>0.604815</td>\n",
              "      <td>24.049999</td>\n",
              "    </tr>\n",
              "    <tr>\n",
              "      <th>1449</th>\n",
              "      <td>19.0</td>\n",
              "      <td>548.66</td>\n",
              "      <td>-0.82</td>\n",
              "      <td>1.0</td>\n",
              "      <td>1.0</td>\n",
              "      <td>8.0</td>\n",
              "      <td>20.032230</td>\n",
              "      <td>1.387558</td>\n",
              "      <td>27.250000</td>\n",
              "    </tr>\n",
              "    <tr>\n",
              "      <th>1467</th>\n",
              "      <td>19.0</td>\n",
              "      <td>429.39</td>\n",
              "      <td>0.59</td>\n",
              "      <td>0.0</td>\n",
              "      <td>0.0</td>\n",
              "      <td>8.0</td>\n",
              "      <td>23.411851</td>\n",
              "      <td>0.472847</td>\n",
              "      <td>28.299999</td>\n",
              "    </tr>\n",
              "  </tbody>\n",
              "</table>\n",
              "<p>405 rows × 9 columns</p>\n",
              "</div>"
            ],
            "text/plain": [
              "      q104  rbcf_1unic  X___zbfa  area_D  q102_D  q118   X___cbmi  \\\n",
              "1     10.0      671.76      0.14     1.0     0.0   6.0  17.264424   \n",
              "9     10.0      254.18     -0.01     0.0     1.0   9.0  16.698931   \n",
              "24    10.0      450.55     -0.82     1.0     0.0  10.0  15.164392   \n",
              "26    10.0      349.82     -0.16     0.0     1.0   4.0  16.250218   \n",
              "31    10.0      779.73     -2.67     1.0     1.0   5.0  13.307631   \n",
              "...    ...         ...       ...     ...     ...   ...        ...   \n",
              "1423  19.0      306.21      1.44     1.0     0.0   9.0  26.881574   \n",
              "1441  19.0      303.54     -2.23     0.0     1.0   5.0  17.136107   \n",
              "1448  19.0      383.35      0.00     0.0     0.0   5.0  21.411688   \n",
              "1449  19.0      548.66     -0.82     1.0     1.0   8.0  20.032230   \n",
              "1467  19.0      429.39      0.59     0.0     0.0   8.0  23.411851   \n",
              "\n",
              "      state_weight_bio       muac  \n",
              "1             2.731270  20.400000  \n",
              "9             0.209256  19.849998  \n",
              "24            0.999609  19.750000  \n",
              "26            0.281814  21.750000  \n",
              "31            0.822882  16.950001  \n",
              "...                ...        ...  \n",
              "1423          1.849649  29.200001  \n",
              "1441          0.296577  24.400000  \n",
              "1448          0.604815  24.049999  \n",
              "1449          1.387558  27.250000  \n",
              "1467          0.472847  28.299999  \n",
              "\n",
              "[405 rows x 9 columns]"
            ]
          },
          "execution_count": 41,
          "metadata": {},
          "output_type": "execute_result"
        }
      ],
      "source": [
        "mask =cont_df2['X___cbmi'] > 100\n",
        "\n",
        "# Drop the rows where col1 is greater than 100\n",
        "cont_df2 = cont_df2.drop(index=cont_df2[mask].index)\n",
        "\n",
        "# Print the resulting DataFrame\n",
        "cont_df2\n",
        "\n"
      ]
    },
    {
      "cell_type": "code",
      "execution_count": null,
      "id": "4dec0955",
      "metadata": {
        "id": "4dec0955",
        "outputId": "b1123387-944a-4f85-8699-551505aaf644"
      },
      "outputs": [
        {
          "name": "stdout",
          "output_type": "stream",
          "text": [
            "q104                 19.000000\n",
            "rbcf_1unic          968.960000\n",
            "X___zbfa              3.350000\n",
            "area_D                1.000000\n",
            "q102_D                1.000000\n",
            "q118                 98.000000\n",
            "X___cbmi             35.259872\n",
            "state_weight_bio      9.249253\n",
            "muac                 35.650002\n",
            "dtype: float64\n",
            "q104                 10.000000\n",
            "rbcf_1unic          166.120000\n",
            "X___zbfa             -4.860000\n",
            "area_D                0.000000\n",
            "q102_D                0.000000\n",
            "q118                  0.000000\n",
            "X___cbmi             10.934358\n",
            "state_weight_bio      0.056183\n",
            "muac                 11.800000\n",
            "dtype: float64\n"
          ]
        }
      ],
      "source": [
        "print(cont_df2.max())\n",
        "print(cont_df2.min())"
      ]
    },
    {
      "cell_type": "code",
      "execution_count": null,
      "id": "ea368c12",
      "metadata": {
        "id": "ea368c12",
        "outputId": "02a28092-166c-438d-a00a-1389bfb63e4a"
      },
      "outputs": [
        {
          "data": {
            "image/png": "[encoded data removed]",
            "text/plain": [
              "<Figure size 432x288 with 1 Axes>"
            ]
          },
          "metadata": {
            "needs_background": "light"
          },
          "output_type": "display_data"
        }
      ],
      "source": [
        "plt.scatter(cont_df2['X___zbfa'],cont_df2['rbcf_1unic'])\n",
        "m, c = np.polyfit(cont_df2['X___zbfa'], cont_df2['rbcf_1unic'], 1)  # 1 indicates a linear fit\n",
        "\n",
        "# Generate the line values\n",
        "line_x = [min(cont_df2['X___zbfa']), max(cont_df2['X___zbfa'])]\n",
        "line_y = [20 * x_i + c for x_i in line_x]\n",
        "\n",
        "# Plot the line\n",
        "plt.plot(line_x, line_y, color='red')\n",
        "\n",
        "plt.show()"
      ]
    },
    {
      "cell_type": "code",
      "execution_count": null,
      "id": "6456b4f3",
      "metadata": {
        "id": "6456b4f3",
        "outputId": "a1eb5af2-be3a-4c7b-a811-b8aa47685fa8"
      },
      "outputs": [
        {
          "data": {
            "text/plain": [
              "numpy.float64"
            ]
          },
          "execution_count": 65,
          "metadata": {},
          "output_type": "execute_result"
        }
      ],
      "source": [
        "type(cont_df1.rbcf_1unic[8])"
      ]
    },
    {
      "cell_type": "code",
      "execution_count": null,
      "id": "242c58e3",
      "metadata": {
        "id": "242c58e3",
        "outputId": "4dfd6fb3-1565-4712-d708-9beb5f3b7ba2"
      },
      "outputs": [
        {
          "data": {
            "text/html": [
              "<div>\n",
              "<style scoped>\n",
              "    .dataframe tbody tr th:only-of-type {\n",
              "        vertical-align: middle;\n",
              "    }\n",
              "\n",
              "    .dataframe tbody tr th {\n",
              "        vertical-align: top;\n",
              "    }\n",
              "\n",
              "    .dataframe thead th {\n",
              "        text-align: right;\n",
              "    }\n",
              "</style>\n",
              "<table border=\"1\" class=\"dataframe\">\n",
              "  <thead>\n",
              "    <tr style=\"text-align: right;\">\n",
              "      <th></th>\n",
              "      <th>q104</th>\n",
              "      <th>rbcf_1unic</th>\n",
              "      <th>@_zbfa</th>\n",
              "      <th>area_D</th>\n",
              "      <th>q102_D</th>\n",
              "      <th>q118</th>\n",
              "      <th>@_cbmi</th>\n",
              "      <th>state_weight_bio</th>\n",
              "      <th>muac</th>\n",
              "    </tr>\n",
              "  </thead>\n",
              "  <tbody>\n",
              "    <tr>\n",
              "      <th>8</th>\n",
              "      <td>14.0</td>\n",
              "      <td>747.30</td>\n",
              "      <td>-0.51</td>\n",
              "      <td>1.0</td>\n",
              "      <td>1.0</td>\n",
              "      <td>8.0</td>\n",
              "      <td>18.022873</td>\n",
              "      <td>0.513892</td>\n",
              "      <td>21.750000</td>\n",
              "    </tr>\n",
              "    <tr>\n",
              "      <th>14</th>\n",
              "      <td>16.0</td>\n",
              "      <td>334.09</td>\n",
              "      <td>-2.42</td>\n",
              "      <td>1.0</td>\n",
              "      <td>1.0</td>\n",
              "      <td>5.0</td>\n",
              "      <td>16.046692</td>\n",
              "      <td>0.954705</td>\n",
              "      <td>19.549999</td>\n",
              "    </tr>\n",
              "    <tr>\n",
              "      <th>23</th>\n",
              "      <td>11.0</td>\n",
              "      <td>382.03</td>\n",
              "      <td>-0.83</td>\n",
              "      <td>1.0</td>\n",
              "      <td>0.0</td>\n",
              "      <td>5.0</td>\n",
              "      <td>15.626282</td>\n",
              "      <td>1.752203</td>\n",
              "      <td>19.650002</td>\n",
              "    </tr>\n",
              "    <tr>\n",
              "      <th>28</th>\n",
              "      <td>11.0</td>\n",
              "      <td>554.23</td>\n",
              "      <td>2.13</td>\n",
              "      <td>1.0</td>\n",
              "      <td>1.0</td>\n",
              "      <td>5.0</td>\n",
              "      <td>23.004149</td>\n",
              "      <td>2.082869</td>\n",
              "      <td>25.349998</td>\n",
              "    </tr>\n",
              "    <tr>\n",
              "      <th>29</th>\n",
              "      <td>11.0</td>\n",
              "      <td>251.29</td>\n",
              "      <td>-1.84</td>\n",
              "      <td>1.0</td>\n",
              "      <td>1.0</td>\n",
              "      <td>5.0</td>\n",
              "      <td>14.471173</td>\n",
              "      <td>4.165739</td>\n",
              "      <td>18.799999</td>\n",
              "    </tr>\n",
              "    <tr>\n",
              "      <th>...</th>\n",
              "      <td>...</td>\n",
              "      <td>...</td>\n",
              "      <td>...</td>\n",
              "      <td>...</td>\n",
              "      <td>...</td>\n",
              "      <td>...</td>\n",
              "      <td>...</td>\n",
              "      <td>...</td>\n",
              "      <td>...</td>\n",
              "    </tr>\n",
              "    <tr>\n",
              "      <th>1451</th>\n",
              "      <td>13.0</td>\n",
              "      <td>440.52</td>\n",
              "      <td>-0.32</td>\n",
              "      <td>0.0</td>\n",
              "      <td>1.0</td>\n",
              "      <td>9.0</td>\n",
              "      <td>17.686245</td>\n",
              "      <td>0.281939</td>\n",
              "      <td>22.500000</td>\n",
              "    </tr>\n",
              "    <tr>\n",
              "      <th>1452</th>\n",
              "      <td>18.0</td>\n",
              "      <td>493.68</td>\n",
              "      <td>-3.02</td>\n",
              "      <td>0.0</td>\n",
              "      <td>1.0</td>\n",
              "      <td>9.0</td>\n",
              "      <td>15.772297</td>\n",
              "      <td>1.204101</td>\n",
              "      <td>20.200001</td>\n",
              "    </tr>\n",
              "    <tr>\n",
              "      <th>1457</th>\n",
              "      <td>12.0</td>\n",
              "      <td>418.17</td>\n",
              "      <td>-2.77</td>\n",
              "      <td>0.0</td>\n",
              "      <td>1.0</td>\n",
              "      <td>5.0</td>\n",
              "      <td>13.650417</td>\n",
              "      <td>0.725245</td>\n",
              "      <td>16.500000</td>\n",
              "    </tr>\n",
              "    <tr>\n",
              "      <th>1458</th>\n",
              "      <td>18.0</td>\n",
              "      <td>387.86</td>\n",
              "      <td>-1.00</td>\n",
              "      <td>0.0</td>\n",
              "      <td>0.0</td>\n",
              "      <td>7.0</td>\n",
              "      <td>18.648954</td>\n",
              "      <td>0.409597</td>\n",
              "      <td>26.000000</td>\n",
              "    </tr>\n",
              "    <tr>\n",
              "      <th>1463</th>\n",
              "      <td>16.0</td>\n",
              "      <td>485.15</td>\n",
              "      <td>-0.86</td>\n",
              "      <td>0.0</td>\n",
              "      <td>0.0</td>\n",
              "      <td>4.0</td>\n",
              "      <td>18.729522</td>\n",
              "      <td>0.409597</td>\n",
              "      <td>22.500000</td>\n",
              "    </tr>\n",
              "  </tbody>\n",
              "</table>\n",
              "<p>405 rows × 9 columns</p>\n",
              "</div>"
            ],
            "text/plain": [
              "      q104  rbcf_1unic  @_zbfa  area_D  q102_D  q118     @_cbmi  \\\n",
              "8     14.0      747.30   -0.51     1.0     1.0   8.0  18.022873   \n",
              "14    16.0      334.09   -2.42     1.0     1.0   5.0  16.046692   \n",
              "23    11.0      382.03   -0.83     1.0     0.0   5.0  15.626282   \n",
              "28    11.0      554.23    2.13     1.0     1.0   5.0  23.004149   \n",
              "29    11.0      251.29   -1.84     1.0     1.0   5.0  14.471173   \n",
              "...    ...         ...     ...     ...     ...   ...        ...   \n",
              "1451  13.0      440.52   -0.32     0.0     1.0   9.0  17.686245   \n",
              "1452  18.0      493.68   -3.02     0.0     1.0   9.0  15.772297   \n",
              "1457  12.0      418.17   -2.77     0.0     1.0   5.0  13.650417   \n",
              "1458  18.0      387.86   -1.00     0.0     0.0   7.0  18.648954   \n",
              "1463  16.0      485.15   -0.86     0.0     0.0   4.0  18.729522   \n",
              "\n",
              "      state_weight_bio       muac  \n",
              "8             0.513892  21.750000  \n",
              "14            0.954705  19.549999  \n",
              "23            1.752203  19.650002  \n",
              "28            2.082869  25.349998  \n",
              "29            4.165739  18.799999  \n",
              "...                ...        ...  \n",
              "1451          0.281939  22.500000  \n",
              "1452          1.204101  20.200001  \n",
              "1457          0.725245  16.500000  \n",
              "1458          0.409597  26.000000  \n",
              "1463          0.409597  22.500000  \n",
              "\n",
              "[405 rows x 9 columns]"
            ]
          },
          "execution_count": 82,
          "metadata": {},
          "output_type": "execute_result"
        }
      ],
      "source": [
        "cont_df2"
      ]
    },
    {
      "cell_type": "code",
      "execution_count": null,
      "id": "ffcf71b9",
      "metadata": {
        "id": "ffcf71b9"
      },
      "outputs": [],
      "source": [
        "corr_matrix = cont_df2.corr()"
      ]
    },
    {
      "cell_type": "code",
      "execution_count": null,
      "id": "52bb9453",
      "metadata": {
        "id": "52bb9453",
        "outputId": "0af46bea-8269-48e0-c84d-eff8438b495a"
      },
      "outputs": [
        {
          "data": {
            "text/html": [
              "<div>\n",
              "<style scoped>\n",
              "    .dataframe tbody tr th:only-of-type {\n",
              "        vertical-align: middle;\n",
              "    }\n",
              "\n",
              "    .dataframe tbody tr th {\n",
              "        vertical-align: top;\n",
              "    }\n",
              "\n",
              "    .dataframe thead th {\n",
              "        text-align: right;\n",
              "    }\n",
              "</style>\n",
              "<table border=\"1\" class=\"dataframe\">\n",
              "  <thead>\n",
              "    <tr style=\"text-align: right;\">\n",
              "      <th></th>\n",
              "      <th>q104</th>\n",
              "      <th>rbcf_1unic</th>\n",
              "      <th>@_zbfa</th>\n",
              "      <th>area_D</th>\n",
              "      <th>q102_D</th>\n",
              "      <th>q118</th>\n",
              "      <th>@_cbmi</th>\n",
              "      <th>state_weight_bio</th>\n",
              "      <th>muac</th>\n",
              "    </tr>\n",
              "  </thead>\n",
              "  <tbody>\n",
              "    <tr>\n",
              "      <th>q104</th>\n",
              "      <td>1.000000</td>\n",
              "      <td>-0.139010</td>\n",
              "      <td>0.098040</td>\n",
              "      <td>-0.021249</td>\n",
              "      <td>0.013407</td>\n",
              "      <td>-0.061890</td>\n",
              "      <td>0.432285</td>\n",
              "      <td>0.030020</td>\n",
              "      <td>0.537653</td>\n",
              "    </tr>\n",
              "    <tr>\n",
              "      <th>rbcf_1unic</th>\n",
              "      <td>-0.139010</td>\n",
              "      <td>1.000000</td>\n",
              "      <td>-0.011514</td>\n",
              "      <td>0.120348</td>\n",
              "      <td>-0.169376</td>\n",
              "      <td>-0.019362</td>\n",
              "      <td>-0.072562</td>\n",
              "      <td>0.030857</td>\n",
              "      <td>-0.114608</td>\n",
              "    </tr>\n",
              "    <tr>\n",
              "      <th>@_zbfa</th>\n",
              "      <td>0.098040</td>\n",
              "      <td>-0.011514</td>\n",
              "      <td>1.000000</td>\n",
              "      <td>-0.199755</td>\n",
              "      <td>-0.101804</td>\n",
              "      <td>-0.008625</td>\n",
              "      <td>0.893306</td>\n",
              "      <td>-0.138183</td>\n",
              "      <td>0.789250</td>\n",
              "    </tr>\n",
              "    <tr>\n",
              "      <th>area_D</th>\n",
              "      <td>-0.021249</td>\n",
              "      <td>0.120348</td>\n",
              "      <td>-0.199755</td>\n",
              "      <td>1.000000</td>\n",
              "      <td>0.095682</td>\n",
              "      <td>-0.038845</td>\n",
              "      <td>-0.188675</td>\n",
              "      <td>0.666667</td>\n",
              "      <td>-0.148907</td>\n",
              "    </tr>\n",
              "    <tr>\n",
              "      <th>q102_D</th>\n",
              "      <td>0.013407</td>\n",
              "      <td>-0.169376</td>\n",
              "      <td>-0.101804</td>\n",
              "      <td>0.095682</td>\n",
              "      <td>1.000000</td>\n",
              "      <td>0.055511</td>\n",
              "      <td>-0.073639</td>\n",
              "      <td>0.062957</td>\n",
              "      <td>0.008773</td>\n",
              "    </tr>\n",
              "    <tr>\n",
              "      <th>q118</th>\n",
              "      <td>-0.061890</td>\n",
              "      <td>-0.019362</td>\n",
              "      <td>-0.008625</td>\n",
              "      <td>-0.038845</td>\n",
              "      <td>0.055511</td>\n",
              "      <td>1.000000</td>\n",
              "      <td>-0.027386</td>\n",
              "      <td>-0.068616</td>\n",
              "      <td>-0.031294</td>\n",
              "    </tr>\n",
              "    <tr>\n",
              "      <th>@_cbmi</th>\n",
              "      <td>0.432285</td>\n",
              "      <td>-0.072562</td>\n",
              "      <td>0.893306</td>\n",
              "      <td>-0.188675</td>\n",
              "      <td>-0.073639</td>\n",
              "      <td>-0.027386</td>\n",
              "      <td>1.000000</td>\n",
              "      <td>-0.117894</td>\n",
              "      <td>0.919484</td>\n",
              "    </tr>\n",
              "    <tr>\n",
              "      <th>state_weight_bio</th>\n",
              "      <td>0.030020</td>\n",
              "      <td>0.030857</td>\n",
              "      <td>-0.138183</td>\n",
              "      <td>0.666667</td>\n",
              "      <td>0.062957</td>\n",
              "      <td>-0.068616</td>\n",
              "      <td>-0.117894</td>\n",
              "      <td>1.000000</td>\n",
              "      <td>-0.088581</td>\n",
              "    </tr>\n",
              "    <tr>\n",
              "      <th>muac</th>\n",
              "      <td>0.537653</td>\n",
              "      <td>-0.114608</td>\n",
              "      <td>0.789250</td>\n",
              "      <td>-0.148907</td>\n",
              "      <td>0.008773</td>\n",
              "      <td>-0.031294</td>\n",
              "      <td>0.919484</td>\n",
              "      <td>-0.088581</td>\n",
              "      <td>1.000000</td>\n",
              "    </tr>\n",
              "  </tbody>\n",
              "</table>\n",
              "</div>"
            ],
            "text/plain": [
              "                      q104  rbcf_1unic    @_zbfa    area_D    q102_D  \\\n",
              "q104              1.000000   -0.139010  0.098040 -0.021249  0.013407   \n",
              "rbcf_1unic       -0.139010    1.000000 -0.011514  0.120348 -0.169376   \n",
              "@_zbfa            0.098040   -0.011514  1.000000 -0.199755 -0.101804   \n",
              "area_D           -0.021249    0.120348 -0.199755  1.000000  0.095682   \n",
              "q102_D            0.013407   -0.169376 -0.101804  0.095682  1.000000   \n",
              "q118             -0.061890   -0.019362 -0.008625 -0.038845  0.055511   \n",
              "@_cbmi            0.432285   -0.072562  0.893306 -0.188675 -0.073639   \n",
              "state_weight_bio  0.030020    0.030857 -0.138183  0.666667  0.062957   \n",
              "muac              0.537653   -0.114608  0.789250 -0.148907  0.008773   \n",
              "\n",
              "                      q118    @_cbmi  state_weight_bio      muac  \n",
              "q104             -0.061890  0.432285          0.030020  0.537653  \n",
              "rbcf_1unic       -0.019362 -0.072562          0.030857 -0.114608  \n",
              "@_zbfa           -0.008625  0.893306         -0.138183  0.789250  \n",
              "area_D           -0.038845 -0.188675          0.666667 -0.148907  \n",
              "q102_D            0.055511 -0.073639          0.062957  0.008773  \n",
              "q118              1.000000 -0.027386         -0.068616 -0.031294  \n",
              "@_cbmi           -0.027386  1.000000         -0.117894  0.919484  \n",
              "state_weight_bio -0.068616 -0.117894          1.000000 -0.088581  \n",
              "muac             -0.031294  0.919484         -0.088581  1.000000  "
            ]
          },
          "execution_count": 84,
          "metadata": {},
          "output_type": "execute_result"
        }
      ],
      "source": [
        "corr_matrix"
      ]
    },
    {
      "cell_type": "code",
      "execution_count": null,
      "id": "651eb069",
      "metadata": {
        "id": "651eb069",
        "outputId": "bb280c99-2637-48c8-a81d-51de17c733ca"
      },
      "outputs": [
        {
          "data": {
            "text/plain": [
              "array([13.35333079, 22.79700244, 26.23723776, 35.25987194])"
            ]
          },
          "execution_count": 85,
          "metadata": {},
          "output_type": "execute_result"
        }
      ],
      "source": [
        "percentiles = np.percentile(cont_df2['@_cbmi'], [5,85, 95, 100])\n",
        "percentiles"
      ]
    },
    {
      "cell_type": "code",
      "execution_count": null,
      "id": "d6670e4b",
      "metadata": {
        "id": "d6670e4b"
      },
      "outputs": [],
      "source": [
        "cont_df2['category'] = pd.cut(cont_df2['@_cbmi'], bins=[-float('inf'), 13.21278697, 21.73085635, float('inf')], labels=['UW', 'NW', 'OW'])"
      ]
    },
    {
      "cell_type": "code",
      "execution_count": null,
      "id": "5fc4bfcb",
      "metadata": {
        "id": "5fc4bfcb",
        "outputId": "996ec8a0-bec6-4d60-c302-a6ecd332c9cb"
      },
      "outputs": [
        {
          "data": {
            "text/plain": [
              "category\n",
              "UW    496.338333\n",
              "NW    518.667613\n",
              "OW    490.387403\n",
              "Name: rbcf_1unic, dtype: float64"
            ]
          },
          "execution_count": 87,
          "metadata": {},
          "output_type": "execute_result"
        }
      ],
      "source": [
        "means = cont_df2['rbcf_1unic'].groupby(cont_df2['category']).mean()\n",
        "means"
      ]
    },
    {
      "cell_type": "code",
      "execution_count": null,
      "id": "b04ce484",
      "metadata": {
        "id": "b04ce484",
        "outputId": "c2afb34c-0cd3-4fc6-83b7-2477e677023b"
      },
      "outputs": [
        {
          "data": {
            "image/png": "[encoded data removed]",
            "text/plain": [
              "<Figure size 432x288 with 1 Axes>"
            ]
          },
          "metadata": {
            "needs_background": "light"
          },
          "output_type": "display_data"
        }
      ],
      "source": [
        "#Create a boxplot with x on the y-axis and category on the x-axis\n",
        "sns.boxplot(data=cont_df2, x='q102_D', y='rbcf_1unic')\n",
        "\n",
        "#Show the plot\n",
        "plt.show()"
      ]
    },
    {
      "cell_type": "markdown",
      "source": [
        "## Parametric methods"
      ],
      "metadata": {
        "id": "fWadgthKUz8U"
      },
      "id": "fWadgthKUz8U"
    },
    {
      "cell_type": "code",
      "execution_count": null,
      "id": "6d18ec12",
      "metadata": {
        "id": "6d18ec12",
        "outputId": "db134ee5-8663-466b-ddae-e18cf69586bb"
      },
      "outputs": [
        {
          "name": "stdout",
          "output_type": "stream",
          "text": [
            "                            WLS Regression Results                            \n",
            "==============================================================================\n",
            "Dep. Variable:             rbcf_1unic   R-squared:                       0.156\n",
            "Model:                            WLS   Adj. R-squared:                  0.148\n",
            "Method:                 Least Squares   F-statistic:                     18.51\n",
            "Date:                Sat, 20 May 2023   Prob (F-statistic):           5.75e-14\n",
            "Time:                        12:00:19   Log-Likelihood:                -2871.7\n",
            "No. Observations:                 405   AIC:                             5753.\n",
            "Df Residuals:                     400   BIC:                             5773.\n",
            "Df Model:                           4                                         \n",
            "Covariance Type:            nonrobust                                         \n",
            "==============================================================================\n",
            "                 coef    std err          t      P>|t|      [0.025      0.975]\n",
            "------------------------------------------------------------------------------\n",
            "const        568.8648     44.541     12.772      0.000     481.300     656.429\n",
            "@_cbmi         2.2042      1.504      1.466      0.144      -0.753       5.161\n",
            "area_D       165.2924     21.541      7.674      0.000     122.945     207.639\n",
            "q102_D       -42.1958     13.893     -3.037      0.003     -69.509     -14.883\n",
            "q104          -5.1525      3.155     -1.633      0.103     -11.355       1.050\n",
            "==============================================================================\n",
            "Omnibus:                      202.349   Durbin-Watson:                   1.429\n",
            "Prob(Omnibus):                  0.000   Jarque-Bera (JB):             3416.442\n",
            "Skew:                           1.694   Prob(JB):                         0.00\n",
            "Kurtosis:                      16.819   Cond. No.                         158.\n",
            "==============================================================================\n",
            "\n",
            "Notes:\n",
            "[1] Standard Errors assume that the covariance matrix of the errors is correctly specified.\n"
          ]
        }
      ],
      "source": [
        "### all children in the dataset\n",
        "\n",
        "\n",
        "X = cont_df2[[ '@_cbmi','area_D','q102_D','q104' ]]\n",
        "Y = cont_df2[['rbcf_1unic']]\n",
        "\n",
        "X = sm.add_constant(X)\n",
        "Y = Y.astype(float)\n",
        "\n",
        "parameter_linear_modelwls = sm.WLS(Y, X, weights=(cont_df2[['state_weight_bio']])**(-2)).fit()\n",
        "print(parameter_linear_modelwls.summary())\n",
        "\n",
        "\n",
        "# cereals, leafy veg, sweets - controls"
      ]
    },
    {
      "cell_type": "raw",
      "id": "4ae79e3d",
      "metadata": {
        "id": "4ae79e3d"
      },
      "source": [
        "**Comment** : Males has lower RBC folate compared to females for the adolescents we consider(Ling Hao 2003)\n",
        "higher BMI is associated with higher RBC folate intake"
      ]
    },
    {
      "cell_type": "code",
      "execution_count": null,
      "id": "36f4baaf",
      "metadata": {
        "id": "36f4baaf"
      },
      "outputs": [],
      "source": [
        "y_pred_param = parameter_linear_modelwls.predict(X)"
      ]
    },
    {
      "cell_type": "code",
      "execution_count": null,
      "id": "7723136c",
      "metadata": {
        "id": "7723136c",
        "outputId": "1a9f2b2d-67b3-497d-e92c-ed15fd056951"
      },
      "outputs": [
        {
          "data": {
            "text/plain": [
              "7819471.743602125"
            ]
          },
          "execution_count": 186,
          "metadata": {},
          "output_type": "execute_result"
        }
      ],
      "source": [
        "residuals_linearwls = parameter_linear_modelwls.resid\n",
        "MSE_parmwls = np.sum(residuals_linearwls**2)\n",
        "MSE_parmwls"
      ]
    },
    {
      "cell_type": "code",
      "execution_count": null,
      "id": "edfef514",
      "metadata": {
        "id": "edfef514",
        "outputId": "f37f05f2-b3a1-4f5e-8137-7f857e64c4c6"
      },
      "outputs": [
        {
          "data": {
            "text/plain": [
              "numpy.ndarray"
            ]
          },
          "execution_count": 111,
          "metadata": {},
          "output_type": "execute_result"
        }
      ],
      "source": [
        "type(cont_df2[['@_zbfa']].values)"
      ]
    },
    {
      "cell_type": "code",
      "execution_count": null,
      "id": "7e3373e1",
      "metadata": {
        "id": "7e3373e1"
      },
      "outputs": [],
      "source": []
    },
    {
      "cell_type": "code",
      "execution_count": null,
      "id": "702212b9",
      "metadata": {
        "id": "702212b9",
        "outputId": "5be918d2-4486-4e78-aacd-481b891d7f48"
      },
      "outputs": [
        {
          "name": "stdout",
          "output_type": "stream",
          "text": [
            "                            WLS Regression Results                            \n",
            "==============================================================================\n",
            "Dep. Variable:             rbcf_1unic   R-squared:                       0.185\n",
            "Model:                            WLS   Adj. R-squared:                  0.175\n",
            "Method:                 Least Squares   F-statistic:                     18.07\n",
            "Date:                Sun, 02 Apr 2023   Prob (F-statistic):           2.18e-13\n",
            "Time:                        18:36:33   Log-Likelihood:                -2330.1\n",
            "No. Observations:                 323   AIC:                             4670.\n",
            "Df Residuals:                     318   BIC:                             4689.\n",
            "Df Model:                           4                                         \n",
            "Covariance Type:            nonrobust                                         \n",
            "==============================================================================\n",
            "                 coef    std err          t      P>|t|      [0.025      0.975]\n",
            "------------------------------------------------------------------------------\n",
            "const        586.9728     50.217     11.689      0.000     488.173     685.772\n",
            "@_zbfa        21.2595      7.633      2.785      0.006       6.243      36.276\n",
            "area_D       179.4565     25.021      7.172      0.000     130.230     228.683\n",
            "q102_D       -49.0322     16.975     -2.889      0.004     -82.429     -15.635\n",
            "q104          -2.4507      3.622     -0.677      0.499      -9.576       4.675\n",
            "==============================================================================\n",
            "Omnibus:                       86.358   Durbin-Watson:                   1.640\n",
            "Prob(Omnibus):                  0.000   Jarque-Bera (JB):              988.514\n",
            "Skew:                           0.722   Prob(JB):                    2.22e-215\n",
            "Kurtosis:                      11.448   Cond. No.                         84.9\n",
            "==============================================================================\n",
            "\n",
            "Notes:\n",
            "[1] Standard Errors assume that the covariance matrix of the errors is correctly specified.\n"
          ]
        }
      ],
      "source": [
        "### individuals with normal BMI\n",
        "\n",
        "subset = cont_df2[(cont_df2['@_cbmi'] >= 13.35333079) & (cont_df2['@_cbmi'] <= 22.79700244)]\n",
        "X = subset[[ '@_zbfa','area_D','q102_D','q104' ]]\n",
        "Y = subset[['rbcf_1unic']]\n",
        "\n",
        "X = sm.add_constant(X)\n",
        "Y = Y.astype(float)\n",
        "\n",
        "parameter_linear_modelwls = sm.WLS(Y, X, weights=(subset[['state_weight_survey']])**(-2)).fit()\n",
        "print(parameter_linear_modelwls.summary())\n",
        "\n",
        "\n",
        "# cereals, leafy veg, sweets - controls"
      ]
    },
    {
      "cell_type": "raw",
      "id": "8fce2274",
      "metadata": {
        "id": "8fce2274"
      },
      "source": [
        "Males has lower RBC folate compared to females for the adolescents. We consider(Ling Hao 2003)\n",
        "higher BMI is associated with higher RBC folate intake"
      ]
    },
    {
      "cell_type": "code",
      "execution_count": null,
      "id": "8fbb8dae",
      "metadata": {
        "id": "8fbb8dae",
        "outputId": "5bfcc158-9560-47be-9572-59bed1ceab76"
      },
      "outputs": [
        {
          "name": "stdout",
          "output_type": "stream",
          "text": [
            "                            WLS Regression Results                            \n",
            "==============================================================================\n",
            "Dep. Variable:             rbcf_1unic   R-squared:                       0.352\n",
            "Model:                            WLS   Adj. R-squared:                  0.305\n",
            "Method:                 Least Squares   F-statistic:                     7.592\n",
            "Date:                Sun, 02 Apr 2023   Prob (F-statistic):           5.85e-05\n",
            "Time:                        18:34:42   Log-Likelihood:                -428.84\n",
            "No. Observations:                  61   AIC:                             867.7\n",
            "Df Residuals:                      56   BIC:                             878.2\n",
            "Df Model:                           4                                         \n",
            "Covariance Type:            nonrobust                                         \n",
            "==============================================================================\n",
            "                 coef    std err          t      P>|t|      [0.025      0.975]\n",
            "------------------------------------------------------------------------------\n",
            "const        992.3066    116.216      8.538      0.000     759.499    1225.114\n",
            "@_zbfa      -156.8264     32.910     -4.765      0.000    -222.753     -90.900\n",
            "area_D        52.3116     55.885      0.936      0.353     -59.639     164.262\n",
            "q102_D        33.8020     30.403      1.112      0.271     -27.103      94.707\n",
            "q104         -19.8466      5.073     -3.912      0.000     -30.009      -9.684\n",
            "==============================================================================\n",
            "Omnibus:                       14.490   Durbin-Watson:                   1.544\n",
            "Prob(Omnibus):                  0.001   Jarque-Bera (JB):               63.252\n",
            "Skew:                          -0.053   Prob(JB):                     1.84e-14\n",
            "Kurtosis:                       7.987   Cond. No.                         182.\n",
            "==============================================================================\n",
            "\n",
            "Notes:\n",
            "[1] Standard Errors assume that the covariance matrix of the errors is correctly specified.\n"
          ]
        }
      ],
      "source": [
        "### individuals with High BMI\n",
        "\n",
        "subsetobs = cont_df2[ (cont_df2['@_cbmi'] >= 22.79700244)]\n",
        "X = subsetobs[[ '@_zbfa','area_D','q102_D','q104']]\n",
        "Y = subsetobs[['rbcf_1unic']]\n",
        "\n",
        "X = sm.add_constant(X)\n",
        "Y = Y.astype(float)\n",
        "\n",
        "parameter_linear_modelwlsobs = sm.WLS(Y, X, weights=(subsetobs[['state_weight_survey']])**(2)).fit()\n",
        "print(parameter_linear_modelwlsobs.summary())\n",
        "\n",
        "\n"
      ]
    },
    {
      "cell_type": "raw",
      "id": "5828c612",
      "metadata": {
        "id": "5828c612"
      },
      "source": [
        "**Comment**: Males has lower RBC folate compared to females for the adolescents(Ling Hao 2003).\n",
        "For Obese adolescent or overweight, higher BMI is associated with lower RBC folate intake probably because of improper diet etc."
      ]
    },
    {
      "cell_type": "code",
      "execution_count": null,
      "id": "2e91c77d",
      "metadata": {
        "id": "2e91c77d",
        "outputId": "e6c45491-8af4-4730-b8b8-f2c3fcac383b"
      },
      "outputs": [
        {
          "name": "stdout",
          "output_type": "stream",
          "text": [
            "                            WLS Regression Results                            \n",
            "==============================================================================\n",
            "Dep. Variable:             rbcf_1unic   R-squared:                       0.319\n",
            "Model:                            WLS   Adj. R-squared:                  0.149\n",
            "Method:                 Least Squares   F-statistic:                     1.872\n",
            "Date:                Sun, 02 Apr 2023   Prob (F-statistic):              0.165\n",
            "Time:                        18:37:36   Log-Likelihood:                -145.19\n",
            "No. Observations:                  21   AIC:                             300.4\n",
            "Df Residuals:                      16   BIC:                             305.6\n",
            "Df Model:                           4                                         \n",
            "Covariance Type:            nonrobust                                         \n",
            "==============================================================================\n",
            "                 coef    std err          t      P>|t|      [0.025      0.975]\n",
            "------------------------------------------------------------------------------\n",
            "const       1571.1720    587.928      2.672      0.017     324.820    2817.524\n",
            "@_zbfa        79.0984     49.422      1.600      0.129     -25.672     183.869\n",
            "area_D       105.7715    349.560      0.303      0.766    -635.262     846.805\n",
            "q102_D        95.3030     69.766      1.366      0.191     -52.594     243.199\n",
            "q104         -85.2728     43.365     -1.966      0.067    -177.202       6.656\n",
            "==============================================================================\n",
            "Omnibus:                        1.460   Durbin-Watson:                   3.009\n",
            "Prob(Omnibus):                  0.482   Jarque-Bera (JB):                0.401\n",
            "Skew:                          -0.269   Prob(JB):                        0.818\n",
            "Kurtosis:                       3.412   Cond. No.                         254.\n",
            "==============================================================================\n",
            "\n",
            "Notes:\n",
            "[1] Standard Errors assume that the covariance matrix of the errors is correctly specified.\n"
          ]
        }
      ],
      "source": [
        "\n",
        "### individuals with low BMI\n",
        "\n",
        "\n",
        "subsetuw = cont_df2[ (cont_df2['@_cbmi'] <= 13.35333079)]\n",
        "X = subsetuw[[ '@_zbfa','area_D','q102_D','q104']]\n",
        "Y = subsetuw[['rbcf_1unic']]\n",
        "\n",
        "X = sm.add_constant(X)\n",
        "Y = Y.astype(float)\n",
        "\n",
        "parameter_linear_modelwlsuw = sm.WLS(Y, X, weights=(subsetuw[['state_weight_survey']])**(2)).fit()\n",
        "print(parameter_linear_modelwlsuw.summary())\n",
        "\n",
        "\n"
      ]
    },
    {
      "cell_type": "markdown",
      "source": [
        "**Finding** - Individuals with normal BMI has a positive association between BMi and RBC folate. While we did not notice any significant effect of BMI on RBC folate for individuals with low and high BMI according to the standards of WHO. However, the last statement is inconclusive given the sample size is too small."
      ],
      "metadata": {
        "id": "BX7syCqozEv8"
      },
      "id": "BX7syCqozEv8"
    },
    {
      "cell_type": "markdown",
      "metadata": {
        "id": "3f7bc8f7"
      },
      "source": [
        "## Non- parametric Methods - kernel estimation"
      ],
      "id": "3f7bc8f7"
    },
    {
      "cell_type": "code",
      "execution_count": null,
      "metadata": {
        "id": "0228057e"
      },
      "outputs": [],
      "source": [],
      "id": "0228057e"
    },
    {
      "cell_type": "code",
      "execution_count": null,
      "metadata": {
        "id": "ace49875",
        "outputId": "49a4f75f-e8b4-4ed4-ddf4-a82dfad3c5ac"
      },
      "outputs": [
        {
          "data": {
            "text/html": [
              "<div>\n",
              "<style scoped>\n",
              "    .dataframe tbody tr th:only-of-type {\n",
              "        vertical-align: middle;\n",
              "    }\n",
              "\n",
              "    .dataframe tbody tr th {\n",
              "        vertical-align: top;\n",
              "    }\n",
              "\n",
              "    .dataframe thead th {\n",
              "        text-align: right;\n",
              "    }\n",
              "</style>\n",
              "<table border=\"1\" class=\"dataframe\">\n",
              "  <thead>\n",
              "    <tr style=\"text-align: right;\">\n",
              "      <th></th>\n",
              "      <th>@_zbfa</th>\n",
              "    </tr>\n",
              "  </thead>\n",
              "  <tbody>\n",
              "    <tr>\n",
              "      <th>8</th>\n",
              "      <td>-0.51</td>\n",
              "    </tr>\n",
              "    <tr>\n",
              "      <th>14</th>\n",
              "      <td>-2.42</td>\n",
              "    </tr>\n",
              "    <tr>\n",
              "      <th>23</th>\n",
              "      <td>-0.83</td>\n",
              "    </tr>\n",
              "    <tr>\n",
              "      <th>28</th>\n",
              "      <td>2.13</td>\n",
              "    </tr>\n",
              "    <tr>\n",
              "      <th>29</th>\n",
              "      <td>-1.84</td>\n",
              "    </tr>\n",
              "    <tr>\n",
              "      <th>...</th>\n",
              "      <td>...</td>\n",
              "    </tr>\n",
              "    <tr>\n",
              "      <th>1451</th>\n",
              "      <td>-0.32</td>\n",
              "    </tr>\n",
              "    <tr>\n",
              "      <th>1452</th>\n",
              "      <td>-3.02</td>\n",
              "    </tr>\n",
              "    <tr>\n",
              "      <th>1457</th>\n",
              "      <td>-2.77</td>\n",
              "    </tr>\n",
              "    <tr>\n",
              "      <th>1458</th>\n",
              "      <td>-1.00</td>\n",
              "    </tr>\n",
              "    <tr>\n",
              "      <th>1463</th>\n",
              "      <td>-0.86</td>\n",
              "    </tr>\n",
              "  </tbody>\n",
              "</table>\n",
              "<p>405 rows × 1 columns</p>\n",
              "</div>"
            ],
            "text/plain": [
              "      @_zbfa\n",
              "8      -0.51\n",
              "14     -2.42\n",
              "23     -0.83\n",
              "28      2.13\n",
              "29     -1.84\n",
              "...      ...\n",
              "1451   -0.32\n",
              "1452   -3.02\n",
              "1457   -2.77\n",
              "1458   -1.00\n",
              "1463   -0.86\n",
              "\n",
              "[405 rows x 1 columns]"
            ]
          },
          "execution_count": 55,
          "metadata": {},
          "output_type": "execute_result"
        }
      ],
      "source": [
        " cont_df2[['@_zbfa']]\n"
      ],
      "id": "ace49875"
    },
    {
      "cell_type": "code",
      "execution_count": null,
      "metadata": {
        "id": "34f2a715"
      },
      "outputs": [],
      "source": [
        "new_x1 =  cont_df2['q102_D'].values\n",
        "new_x =  cont_df2['@_zbfa'].values\n",
        "Y =  cont_df2['rbcf_1unic'].values\n",
        "weight =  cont_df2['state_weight_survey'].values\n",
        "\n"
      ],
      "id": "34f2a715"
    },
    {
      "cell_type": "code",
      "execution_count": null,
      "metadata": {
        "id": "55234895",
        "outputId": "7e9afb44-960d-4a8b-d77b-5ab5659a819d"
      },
      "outputs": [
        {
          "data": {
            "text/plain": [
              "(4.339084239975044, 0.21641283313169646)"
            ]
          },
          "execution_count": 164,
          "metadata": {},
          "output_type": "execute_result"
        }
      ],
      "source": [
        "## finding parameters by Silverman;s method for non-parametric regression\n",
        "np.random.seed(1)\n",
        "# xwidth controls the range of x values.\n",
        "xwidth = 20\n",
        "kernel_x = np.arange(-xwidth,xwidth, 0.1)\n",
        "#bandwidth plugin values by Silverman\n",
        "std = new_x.std()\n",
        "q1 = np.quantile(new_x, 0.25)\n",
        "q3 = np.quantile(new_x, 0.75)\n",
        "iqr = q3 - q1\n",
        "h_plugin = 1.06*min(iqr,std)*(len(new_x))**(1/6)\n",
        "n = len(new_x1)\n",
        "p = np.mean(new_x1)\n",
        "h_plugin1 = 0.5 * (1 + (n * (0.5 - p) ** 2) / (p * (1 - p))) ** (-1)\n",
        "\n",
        "h_plugin,h_plugin1\n"
      ],
      "id": "55234895"
    },
    {
      "cell_type": "code",
      "execution_count": null,
      "metadata": {
        "id": "641d43eb"
      },
      "outputs": [],
      "source": [
        "def aitchison_aitken(h, Xi, x, num_levels=None):\n",
        "    \"\"\"\n",
        "    The Aitchison-Aitken kernel, used for unordered discrete random variables.\n",
        "\n",
        "    Parameters\n",
        "    ----------\n",
        "    h : 1-D ndarray, shape (K,)\n",
        "        The bandwidths used to estimate the value of the kernel function.\n",
        "    Xi : 2-D ndarray of ints, shape (nobs, K)\n",
        "        The value of the training set.\n",
        "    x: 1-D ndarray, shape (K,)\n",
        "        The value at which the kernel density is being estimated.\n",
        "    num_levels: bool, optional\n",
        "        Gives the user the option to specify the number of levels for the\n",
        "        random variable.  If False, the number of levels is calculated from\n",
        "        the data.\n",
        "\n",
        "    Returns\n",
        "    -------\n",
        "    kernel_value : ndarray, shape (nobs, K)\n",
        "        The value of the kernel function at each training point for each var.\n",
        "    \"\"\"\n",
        "    #Xi = Xi.reshape(Xi.size)  # seems needed in case Xi is scalar\n",
        "    if num_levels is None:\n",
        "        num_levels = 2\n",
        "    if num_levels < 2:\n",
        "        print(num_levels)\n",
        "        raise ValueError('num_levels must be at least 2')\n",
        "\n",
        "    kernel_value = np.ones(Xi.size) * h / (num_levels - 1)\n",
        "    idx = Xi == x\n",
        "    kernel_value[idx] = (idx * (1 - h))[idx]\n",
        "    return kernel_value"
      ],
      "id": "641d43eb"
    },
    {
      "cell_type": "code",
      "execution_count": null,
      "metadata": {
        "id": "901f762c",
        "outputId": "0585c731-10f8-4d63-e1e0-34677e287d98"
      },
      "outputs": [
        {
          "data": {
            "image/png": "[encoded data removed]",
            "text/plain": [
              "<Figure size 864x360 with 1 Axes>"
            ]
          },
          "metadata": {
            "needs_background": "light"
          },
          "output_type": "display_data"
        }
      ],
      "source": [
        "fig = plt.figure(figsize=(12, 5))\n",
        "ax = fig.add_subplot(111)\n",
        "lines = ax.hist(new_x, bins=20, edgecolor=\"k\", label=\"Histogram\")\n",
        "\n",
        "ax.legend(loc=\"best\")\n",
        "ax.grid(True, zorder=-5)"
      ],
      "id": "901f762c"
    },
    {
      "cell_type": "code",
      "execution_count": null,
      "metadata": {
        "id": "2d92af32"
      },
      "outputs": [],
      "source": [
        "# We are selecting a single point and calculating the Kernel value\n",
        "input_x = new_x[0]\n",
        "input_x1 = new_x1[0]\n",
        "#col1 = gauss_const(bw_manual)\n",
        "#col2= gauss_exp(kernel_x, input_x, bw_manual)\n",
        "\n",
        "### defining kernel functions with weight indicator for survey data\n",
        "\n",
        "def kernel_gaussian(h_plugin, new_x,weight):\n",
        "    kernel_gaussian = []\n",
        "    for i in range(len(new_x)):\n",
        "        kernel_gaussian.append((1/(h_plugin*len(new_x)))*np.sum(gaussian(h_plugin, new_x, new_x[i])*weight[i]))\n",
        "    return kernel_gaussian\n",
        "\n",
        "def kernel_aitchison_aitken(h_plugin1, new_x1,weight):\n",
        "    kernel_aitchison_aitken = []\n",
        "    for i in range(len(new_x)):\n",
        "        kernel_aitchison_aitken.append(np.sum(aitchison_aitken_reg(h_plugin1, new_x, new_x[i])*weight[i]))\n",
        "    return kernel_aitchison_aitken"
      ],
      "id": "2d92af32"
    },
    {
      "cell_type": "code",
      "execution_count": null,
      "metadata": {
        "id": "8ad341e3"
      },
      "outputs": [],
      "source": [
        "kernel_est = kernel_gaussian(h_plugin, new_x,weight)\n"
      ],
      "id": "8ad341e3"
    },
    {
      "cell_type": "code",
      "execution_count": null,
      "metadata": {
        "id": "b2c6b12c",
        "outputId": "3e928c8d-e603-4e50-bee0-0fce74b5493a"
      },
      "outputs": [
        {
          "data": {
            "image/png": "[encoded data removed]",
            "text/plain": [
              "<Figure size 864x360 with 1 Axes>"
            ]
          },
          "metadata": {
            "needs_background": "light"
          },
          "output_type": "display_data"
        }
      ],
      "source": [
        "fig = plt.figure(figsize=(12, 5))\n",
        "ax = fig.add_subplot(111)\n",
        "\n",
        "kde = sm.nonparametric.KDEUnivariate(new_x)\n",
        "kde.fit()  # Estimate the densities\n",
        "# Plot the histogram\n",
        "ax.hist(\n",
        "    new_x,\n",
        "    bins=20,\n",
        "    density=True,\n",
        "    label=\"Histogram from samples\",\n",
        "    zorder=5,\n",
        "    edgecolor=\"k\",\n",
        "    alpha=0.5,\n",
        ")\n",
        "\n",
        "# Plot the KDE as fitted using the default arguments\n",
        "ax.plot(kde.support, kde.density, lw=3, label=\"KDE from samples\", zorder=10)\n",
        "ax.legend(loc=\"best\")\n",
        "ax.grid(True, zorder=-5)\n"
      ],
      "id": "b2c6b12c"
    },
    {
      "cell_type": "code",
      "execution_count": null,
      "metadata": {
        "id": "1ff941cd",
        "outputId": "a4105def-8eed-4c7b-d3e1-e59190a3011b"
      },
      "outputs": [
        {
          "data": {
            "image/png": "[encoded data removed]",
            "text/plain": [
              "<Figure size 720x360 with 2 Axes>"
            ]
          },
          "metadata": {
            "needs_background": "light"
          },
          "output_type": "display_data"
        }
      ],
      "source": [
        "subset\n",
        "\n",
        "Yow =  subsetobs['rbcf_1unic'].values\n",
        "Ynw =  subset['rbcf_1unic'].values\n",
        "weightnw =  cont_df2['state_weight_survey'].values\n",
        "\n",
        "\n",
        "fig, (ax1, ax2) = plt.subplots(ncols=2, figsize=(10, 5))\n",
        "\n",
        "\n",
        "kde = sm.nonparametric.KDEUnivariate(Yow)\n",
        "kde.fit()  # Estimate the densities\n",
        "# Plot the histogram\n",
        "ax1.hist(\n",
        "    Yow,\n",
        "    bins=20,\n",
        "    density=True,\n",
        "    label=\"Histogram from samples\",\n",
        "    zorder=5,\n",
        "    edgecolor=\"k\",\n",
        "    alpha=0.5,\n",
        ")\n",
        "\n",
        "# Plot the KDE as fitted using the default arguments\n",
        "ax1.plot(kde.support, kde.density, lw=3, label=\"KDE from samples\", zorder=10)\n",
        "ax1.legend(loc=\"best\")\n",
        "ax1.grid(True, zorder=-5)\n",
        "\n",
        "kdeY = sm.nonparametric.KDEUnivariate(Ynw)\n",
        "kdeY.fit()  # Estimate the densities\n",
        "# Plot the histogram\n",
        "ax2.hist(\n",
        "    Ynw,\n",
        "    bins=20,\n",
        "    density=True,\n",
        "    label=\"Histogram from samples\",\n",
        "    zorder=5,\n",
        "    edgecolor=\"k\",\n",
        "    alpha=0.5,\n",
        ")\n",
        "\n",
        "# Plot the KDE as fitted using the default arguments\n",
        "ax2.plot(kdeY.support, kdeY.density, lw=3, label=\"KDE from samples\", zorder=10)\n",
        "ax2.legend(loc=\"best\")\n",
        "ax2.grid(True, zorder=-5)"
      ],
      "id": "1ff941cd"
    },
    {
      "cell_type": "code",
      "execution_count": null,
      "metadata": {
        "id": "f47cd519",
        "outputId": "ffa58611-6e43-4a3f-b46c-d3b5f22612ba"
      },
      "outputs": [
        {
          "data": {
            "text/plain": [
              "405"
            ]
          },
          "execution_count": 135,
          "metadata": {},
          "output_type": "execute_result"
        }
      ],
      "source": [
        "len(new_x)"
      ],
      "id": "f47cd519"
    },
    {
      "cell_type": "code",
      "execution_count": null,
      "metadata": {
        "id": "2f3282cb",
        "outputId": "8dad8a51-0fc1-4dc6-835f-79d41a94c819"
      },
      "outputs": [
        {
          "data": {
            "text/plain": [
              "array([1.99471140e+000, 7.36823067e-196, 1.99471140e+000, ...,\n",
              "       8.76415025e-002, 8.76415025e-002, 2.76535477e-049])"
            ]
          },
          "execution_count": 52,
          "metadata": {},
          "output_type": "execute_result"
        }
      ],
      "source": [
        "kernel_function(bw_manual, new_x, input_x)"
      ],
      "id": "2f3282cb"
    },
    {
      "cell_type": "code",
      "execution_count": null,
      "metadata": {
        "id": "1c72ede1",
        "outputId": "a90ac160-27e7-4813-dde8-d1aef8a34bc6"
      },
      "outputs": [
        {
          "data": {
            "text/plain": [
              "0.8"
            ]
          },
          "execution_count": 69,
          "metadata": {},
          "output_type": "execute_result"
        }
      ],
      "source": [
        "aitchison_aitken_reg(bw_manual, new_x1[0], input_x1)"
      ],
      "id": "1c72ede1"
    },
    {
      "cell_type": "code",
      "execution_count": null,
      "metadata": {
        "id": "23226c98",
        "outputId": "1d46e3c6-89a1-4d87-a7d2-55fbe34952dc"
      },
      "outputs": [
        {
          "data": {
            "text/plain": [
              "array([0.86663103, 0.57923585, 0.57923585, ..., 0.45149684, 0.45149684,\n",
              "       0.38990411])"
            ]
          },
          "execution_count": 62,
          "metadata": {},
          "output_type": "execute_result"
        }
      ],
      "source": [
        "weight"
      ],
      "id": "23226c98"
    },
    {
      "cell_type": "code",
      "execution_count": null,
      "metadata": {
        "id": "ff94eea6",
        "outputId": "4c707565-7d0b-437d-cb18-556bfe9e2414"
      },
      "outputs": [
        {
          "data": {
            "text/plain": [
              "1.0307498115002296e-06"
            ]
          },
          "execution_count": 74,
          "metadata": {},
          "output_type": "execute_result"
        }
      ],
      "source": [
        "0.8*1.4867195147343004e-06*0.86663103"
      ],
      "id": "ff94eea6"
    },
    {
      "cell_type": "code",
      "execution_count": null,
      "metadata": {
        "id": "c90d77fc",
        "outputId": "042292cb-1dd3-4d32-c38a-738b156d3e3d"
      },
      "outputs": [
        {
          "data": {
            "text/plain": [
              "1.4867195147343004e-06"
            ]
          },
          "execution_count": 68,
          "metadata": {},
          "output_type": "execute_result"
        }
      ],
      "source": [
        "gaussian(bw_manual, new_x[0], input_x)"
      ],
      "id": "c90d77fc"
    },
    {
      "cell_type": "code",
      "execution_count": null,
      "metadata": {
        "id": "3a12739e",
        "outputId": "b81c1b0a-3f5d-454d-8699-c6f7b90c66ff"
      },
      "outputs": [
        {
          "data": {
            "text/plain": [
              "1.0307498127328711e-06"
            ]
          },
          "execution_count": 73,
          "metadata": {},
          "output_type": "execute_result"
        }
      ],
      "source": [
        "aitchison_aitken_reg(bw_manual, new_x1[0], input_x1)*gaussian(bw_manual, new_x[0], input_x)*weight[0]"
      ],
      "id": "3a12739e"
    },
    {
      "cell_type": "code",
      "execution_count": null,
      "metadata": {
        "id": "74058039",
        "outputId": "8bcd1f54-c9b7-4d9c-ce44-abfd1e811458"
      },
      "outputs": [
        {
          "data": {
            "text/plain": [
              "array([1., 1., 0., 1., 1., 1., 1., 0., 0., 1., 1., 1., 1., 1., 0., 1., 0.,\n",
              "       1., 1., 1., 1., 1., 1., 0., 0., 1., 1., 0., 0., 1., 1., 0., 1., 1.,\n",
              "       0., 0., 1., 1., 0., 1., 1., 0., 1., 0., 0., 0., 1., 0., 0., 0., 1.,\n",
              "       0., 1., 0., 0., 0., 1., 0., 1., 1., 1., 1., 1., 1., 1., 1., 0., 0.,\n",
              "       0., 1., 1., 0., 0., 1., 0., 1., 1., 1., 1., 0., 0., 0., 0., 1., 1.,\n",
              "       0., 1., 1., 0., 1., 0., 1., 0., 1., 1., 0., 0., 1., 1., 1., 1., 0.,\n",
              "       0., 0., 0., 1., 1., 1., 1., 0., 1., 1., 1., 1., 0., 0., 1., 1., 1.,\n",
              "       1., 1., 0., 0., 1., 0., 1., 1., 1., 0., 1., 1., 0., 1., 1., 0., 0.,\n",
              "       0., 0., 0., 0., 0., 1., 1., 1., 1., 0., 1., 1., 1., 1., 1., 1., 0.,\n",
              "       0., 1., 1., 1., 0., 0., 0., 0., 1., 1., 0., 0., 0., 1., 0., 0., 1.,\n",
              "       0., 1., 1., 1., 1., 0., 1., 0., 0., 1., 0., 1., 1., 1., 0., 1., 0.,\n",
              "       1., 0., 1., 1., 0., 0., 0., 1., 1., 1., 1., 1., 1., 0., 0., 1., 0.,\n",
              "       1., 0., 1., 0., 0., 1., 0., 0., 0., 1., 1., 1., 1., 0., 1., 0., 0.,\n",
              "       0., 0., 0., 1., 1., 0., 0., 1., 1., 1., 1., 1., 1., 0., 0., 0., 1.,\n",
              "       0., 1., 0., 1., 0., 0., 1., 0., 1., 0., 0., 1., 1., 0., 0., 0., 1.,\n",
              "       1., 1., 0., 0., 0., 0., 0., 0., 1., 1., 0., 0., 1., 1., 1., 1., 0.,\n",
              "       0., 1., 1., 1., 0., 0., 0., 0., 0., 0., 1., 0., 1., 0., 0., 0., 0.,\n",
              "       0., 1., 0., 1., 1., 1., 1., 1., 1., 1., 0., 0., 1., 1., 0., 1., 1.,\n",
              "       0., 0., 0., 0., 0., 0., 0., 0., 0., 0., 0., 0., 0., 0., 0., 1., 1.,\n",
              "       1., 1., 1., 0., 1., 1., 1., 0., 1., 0., 0., 1., 1., 1., 1., 1., 0.,\n",
              "       1., 0., 1., 0., 0., 1., 0., 0., 1., 0., 1., 0., 0., 1., 1., 1., 1.,\n",
              "       0., 1., 1., 1., 1., 0., 0., 0., 0., 1., 1., 0., 0., 1., 1., 0., 0.,\n",
              "       1., 0., 1., 1., 0., 1., 0., 0., 1., 0., 1., 1., 0., 0., 1., 1., 0.,\n",
              "       1., 0., 0., 1., 0., 1., 1., 0., 0., 1., 1., 1., 0., 0.])"
            ]
          },
          "execution_count": 170,
          "metadata": {},
          "output_type": "execute_result"
        }
      ],
      "source": [
        "new_x1"
      ],
      "id": "74058039"
    },
    {
      "cell_type": "code",
      "execution_count": null,
      "metadata": {
        "code_folding": [],
        "id": "d9bf1a89",
        "outputId": "65a97dd5-9f9b-4dd5-98f6-d43708285ab4"
      },
      "outputs": [
        {
          "data": {
            "text/plain": [
              "504.0476368232315"
            ]
          },
          "execution_count": 178,
          "metadata": {},
          "output_type": "execute_result"
        }
      ],
      "source": [
        "def weights(h_plugin,h_plugin1, input_x1,input_x, all_input_values, all_input_values1,weight):\n",
        "    w_row = []\n",
        "    for i in range(len(all_input_values)):\n",
        "        ki = aitchison_aitken_reg(h_plugin1, all_input_values1[i], input_x1)*gaussian(h_plugin, all_input_values[i], input_x)*weight[i]\n",
        "        ki_sum = np.sum(aitchison_aitken(h_plugin1, all_input_values1, input_x1)*gaussian(h_plugin, all_input_values, input_x)*weight)\n",
        "        if ki_sum == 0:\n",
        "            w_row.append(0)\n",
        "        else:\n",
        "            w_row.append(ki/ki_sum)\n",
        "    return w_row\n",
        "def single_y_pred(h_plugin,h_plugin1, input_x1,input_x, new_x, new_x1,weight):\n",
        "    w = weights(h_plugin,h_plugin1, input_x1,input_x, new_x, new_x1,weight)\n",
        "    y_single = np.sum(np.dot(Y,w))\n",
        "    return y_single\n",
        "ypred_single = single_y_pred(h_plugin,h_plugin1, input_x1,input_x, new_x, new_x1,weight)\n",
        "ypred_single"
      ],
      "id": "d9bf1a89"
    },
    {
      "cell_type": "code",
      "execution_count": null,
      "metadata": {
        "id": "df69c95b"
      },
      "outputs": [],
      "source": [
        "Y_pred = []\n",
        "for i in range(len(new_x)):\n",
        "    Y_single = single_y_pred(h_plugin,h_plugin1, new_x[i], new_x1[i], new_x, new_x1,weight)\n",
        "    Y_pred.append(Y_single)"
      ],
      "id": "df69c95b"
    },
    {
      "cell_type": "code",
      "execution_count": null,
      "metadata": {
        "id": "c154ac2d",
        "outputId": "cec055f1-ebdb-403e-eb8d-c6aa4ca1ad9e"
      },
      "outputs": [
        {
          "data": {
            "text/plain": [
              "8030949.395412842"
            ]
          },
          "execution_count": 172,
          "metadata": {},
          "output_type": "execute_result"
        }
      ],
      "source": [
        "### calculating MSE for the residuals using the non-parametric regression\n",
        "\n",
        "residuals = np.subtract(Y_pred, Y)\n",
        "residuals\n",
        "mse_non = np.sum(residuals**2)\n",
        "mse_non"
      ],
      "id": "c154ac2d"
    },
    {
      "cell_type": "markdown",
      "source": [
        "## Semi parametric methods"
      ],
      "metadata": {
        "id": "nv7i2TouUnAM"
      },
      "id": "nv7i2TouUnAM"
    },
    {
      "cell_type": "markdown",
      "source": [
        "Estimating the marginal effect for each outcome by semi-parametric methods ; **partially linear model** and **Single Index** estimator in R\n",
        "\n",
        "Corresponding R code is saved in the same folder. Below we show the output from R code."
      ],
      "metadata": {
        "id": "L3XuZRxd1ciB"
      },
      "id": "L3XuZRxd1ciB"
    },
    {
      "cell_type": "raw",
      "metadata": {
        "id": "52ca8f0f"
      },
      "source": [
        "\n",
        " R output for Partially Linear model -\n",
        "\n",
        "\n",
        "\n",
        "                  q104     zbfa factor(q102_D) factor(area_D)\n",
        "Bandwidth(s): 0.9163454 4.653003     0.09031091      0.1186965\n",
        "\n",
        "Regression Type: Local-Constant\n",
        "Bandwidth Selection Method: Least Squares Cross-Validation\n",
        "Formula: rbcf_1unic ~ q104 + zbfa + factor(q102_D) + factor(area_D)\n",
        "Bandwidth Type: Fixed\n",
        "Objective Function Value: 18739.26 (achieved on multistart 1)\n",
        "\n",
        "Continuous Kernel Type: Second-Order Gaussian\n",
        "No. Continuous Explanatory Vars.: 2\n",
        "\n",
        "Unordered Categorical Kernel Type: Aitchison and Aitken\n",
        "No. Unordered Categorical Explanatory Vars.: 2\n",
        "\n",
        "\n",
        "\n",
        "\n",
        "                   q104     zbfa factor(q102_D) factor(area_D)\n",
        "Bandwidth(s): 0.9163454 4.653003     0.09031091      0.1186965\n",
        "\n",
        "Kernel Regression Estimator: Local-Constant\n",
        "Bandwidth Type: Fixed\n",
        "Residual standard error: 133.0124\n",
        "R-squared: 0.1226283\n",
        "\n",
        "Continuous Kernel Type: Second-Order Gaussian\n",
        "No. Continuous Explanatory Vars.: 2\n",
        "\n",
        "Unordered Categorical Kernel Type: Aitchison and Aitken\n",
        "No. Unordered Categorical Explanatory Vars.: 2"
      ],
      "id": "52ca8f0f"
    },
    {
      "cell_type": "markdown",
      "metadata": {
        "id": "fa8f71ae"
      },
      "source": [
        "![Partially Linear model](data:application/octet-stream;base64,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)"
      ],
      "id": "fa8f71ae"
    },
    {
      "cell_type": "markdown",
      "source": [
        "R output for single index model\n",
        "\n",
        "Regression Type: Local-Constant\n",
        "Bandwidth Selection Method: Ichimura\n",
        "Bandwidth Type: Fixed\n",
        "Objective Function Value: 18621.84 (achieved on multistart 1)\n",
        "\n",
        "Continuous Kernel Type: Second-Order Gaussian\n",
        "No. Continuous Explanatory Vars.: 1\n",
        "Estimation Time: 38.8 seconds\n",
        "\n",
        "\n",
        "Single Index Model\n",
        "Regression Data: 582 training points, in 4 variable(s)\n",
        "\n",
        "      q104   gender_recode  area_recode      zbfa\n",
        "Beta:    1      -13.3684     -16.03024       0.1144642\n",
        "\n",
        "\n",
        "Bandwidth: 1.31491\n",
        "\n",
        "Kernel Regression Estimator: Local-Constant\n",
        "\n",
        "Residual standard error: 134.1488\n",
        "R-squared: 0.09759886\n",
        "\n",
        "Continuous Kernel Type: Second-Order Gaussian\n",
        "No. Continuous Explanatory Vars.: 1\n"
      ],
      "metadata": {
        "id": "PzXF3sfiWkox"
      },
      "id": "PzXF3sfiWkox"
    },
    {
      "cell_type": "markdown",
      "source": [
        "![Single index model](data:application/octet-stream;base64,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)"
      ],
      "metadata": {
        "id": "WtTA16BDW1F9"
      },
      "id": "WtTA16BDW1F9"
    },
    {
      "cell_type": "markdown",
      "source": [
        "**Conclusion** - Even from non-parametric methods, we witness positive association between BMI and RBC folate among children in West Bengal"
      ],
      "metadata": {
        "id": "2ZmPjzj9XPoI"
      },
      "id": "2ZmPjzj9XPoI"
    },
    {
      "cell_type": "code",
      "source": [],
      "metadata": {
        "id": "ZmXY44-8WUwV"
      },
      "id": "ZmXY44-8WUwV",
      "execution_count": null,
      "outputs": []
    },
    {
      "cell_type": "code",
      "execution_count": null,
      "metadata": {
        "id": "3676581f"
      },
      "outputs": [],
      "source": [],
      "id": "3676581f"
    },
    {
      "cell_type": "code",
      "execution_count": null,
      "metadata": {
        "id": "8c88fb1c"
      },
      "outputs": [],
      "source": [],
      "id": "8c88fb1c"
    },
    {
      "cell_type": "code",
      "execution_count": null,
      "metadata": {
        "id": "18bc0f68"
      },
      "outputs": [],
      "source": [],
      "id": "18bc0f68"
    },
    {
      "cell_type": "code",
      "execution_count": null,
      "metadata": {
        "id": "70307592"
      },
      "outputs": [],
      "source": [],
      "id": "70307592"
    },
    {
      "cell_type": "code",
      "execution_count": null,
      "metadata": {
        "id": "c9212a41"
      },
      "outputs": [],
      "source": [],
      "id": "c9212a41"
    },
    {
      "cell_type": "code",
      "execution_count": null,
      "metadata": {
        "id": "c914ea00"
      },
      "outputs": [],
      "source": [],
      "id": "c914ea00"
    },
    {
      "cell_type": "code",
      "execution_count": null,
      "metadata": {
        "id": "dbf0cb50",
        "outputId": "5c225364-ec0a-4ab6-b30d-2b6164f2be92"
      },
      "outputs": [
        {
          "name": "stdout",
          "output_type": "stream",
          "text": [
            "     Kernel_pred  new_x\n",
            "205   519.158456  -4.86\n",
            "156   519.352179  -4.56\n",
            "158   519.158456  -4.53\n",
            "50    519.352179  -4.14\n",
            "56    519.352179  -4.10\n",
            "..           ...    ...\n",
            "377   519.352179   2.56\n",
            "170   519.158456   2.60\n",
            "381   519.158456   2.77\n",
            "387   519.158456   2.93\n",
            "298   519.352179   3.35\n",
            "\n",
            "[405 rows x 2 columns]\n"
          ]
        }
      ],
      "source": [
        "# Create a DataFrame from the two arrays\n",
        "data = {'Kernel_pred': Y_pred, 'new_x': new_x}\n",
        "df = pd.DataFrame(data)\n",
        "\n",
        "# Sort the DataFrame by the 'Age' column\n",
        "df = df.sort_values(by='new_x')\n",
        "\n",
        "# Output the sorted DataFrame\n",
        "print(df)"
      ],
      "id": "dbf0cb50"
    },
    {
      "cell_type": "code",
      "execution_count": null,
      "metadata": {
        "id": "9eab83f1"
      },
      "outputs": [],
      "source": [
        "X = cont_df1[['area_D','q104','q102_D','q306a', 'q306p']]\n",
        "Y = cont_df1[['wc']]\n"
      ],
      "id": "9eab83f1"
    },
    {
      "cell_type": "code",
      "execution_count": null,
      "metadata": {
        "id": "be992507"
      },
      "outputs": [],
      "source": [],
      "id": "be992507"
    },
    {
      "cell_type": "code",
      "execution_count": null,
      "metadata": {
        "id": "8d7b571e"
      },
      "outputs": [],
      "source": [
        "'''Class for Gaussian Kernel Regression '''\n",
        "class GKR:\n",
        "\n",
        "    def __init__(self, x, y, b):\n",
        "        self.x = np.array(x)\n",
        "        self.y = np.array(y)\n",
        "        self.b = b\n",
        "\n",
        "    '''Implement the Gaussian Kernel'''\n",
        "    def gaussian_kernel(self, z):\n",
        "        return (1/np.sqrt(2*np.pi))*np.exp(-0.5*z**2)\n",
        "\n",
        "    '''Calculate weights and return prediction'''\n",
        "    def predict(self, X):\n",
        "        kernels = [self.gaussian_kernel((xi-X)/self.b) for xi in self.x]\n",
        "        weights = [len(self.x) * (kernel/np.sum(kernels)) for kernel in kernels]\n",
        "        return np.dot(weights, self.y)/len(self.x)\n",
        "\n",
        "    'Calculate weights and return prediction'''\n",
        "    def predict(self, X):\n",
        "        kernels = np.array([self.gaussian_kernel((np.linalg.norm(xi-X))/self.b) for xi in self.x])\n",
        "        weights = np.array([len(self.x) * (kernel/np.sum(kernels)) for kernel in kernels])\n",
        "        return np.dot(weights.T, self.y)/len(self.x)\n",
        "\n",
        "\n",
        "    def visualize_kernels(self):\n",
        "        zsum = np.zeros((120,120))\n",
        "        plt.figure(figsize = (10,5))\n",
        "        ax = plt.axes(projection = '3d')\n",
        "        for xi in self.x:\n",
        "            x, y = np.mgrid[0:120:120j, 0:120:120j]\n",
        "            xy = np.column_stack([x.flat, y.flat])\n",
        "            z = multivariate_normal.pdf(xy, mean=xi, cov=self.b)\n",
        "            z = z.reshape(x.shape)\n",
        "            zsum += z\n",
        "\n",
        "        ax.plot_surface(x,y,zsum)\n",
        "\n",
        "        ax.set_ylabel('y')\n",
        "        ax.set_xlabel('x')\n",
        "        ax.set_zlabel('Kernel Weights wi')\n",
        "        plt.legend()"
      ],
      "id": "8d7b571e"
    },
    {
      "cell_type": "code",
      "execution_count": null,
      "metadata": {
        "id": "1c489fec"
      },
      "outputs": [],
      "source": [
        "gkr = GKR([[11,15],[22,30],[33,45],[44,60],[50,52],[67,92],[78,107],[89,123],[100,137]], [2337,2750,2301,2500,1700,1100,1000,1642, 1932], 10)"
      ],
      "id": "1c489fec"
    },
    {
      "cell_type": "code",
      "execution_count": null,
      "metadata": {
        "id": "e0c29007",
        "outputId": "d194b7aa-0a97-4596-eb6f-953d6c3ceb75"
      },
      "outputs": [
        {
          "name": "stderr",
          "output_type": "stream",
          "text": [
            "No handles with labels found to put in legend.\n"
          ]
        },
        {
          "data": {
            "image/png": "[encoded data removed]",
            "text/plain": [
              "<Figure size 720x360 with 1 Axes>"
            ]
          },
          "metadata": {
            "needs_background": "light"
          },
          "output_type": "display_data"
        }
      ],
      "source": [
        "gkr.visualize_kernels()"
      ],
      "id": "e0c29007"
    },
    {
      "cell_type": "code",
      "execution_count": null,
      "metadata": {
        "id": "060498ec",
        "outputId": "127190ff-24ca-44e8-ed4b-288d5d9c4031"
      },
      "outputs": [
        {
          "data": {
            "text/plain": [
              "2033.4977569484809"
            ]
          },
          "execution_count": 6,
          "metadata": {},
          "output_type": "execute_result"
        }
      ],
      "source": [
        "gkr.predict([50,52])"
      ],
      "id": "060498ec"
    },
    {
      "cell_type": "code",
      "execution_count": null,
      "metadata": {
        "id": "72080c35"
      },
      "outputs": [],
      "source": [],
      "id": "72080c35"
    },
    {
      "cell_type": "code",
      "execution_count": null,
      "metadata": {
        "id": "2e5e8f23"
      },
      "outputs": [],
      "source": [],
      "id": "2e5e8f23"
    },
    {
      "cell_type": "code",
      "execution_count": null,
      "metadata": {
        "id": "1c373851"
      },
      "outputs": [],
      "source": [],
      "id": "1c373851"
    },
    {
      "cell_type": "code",
      "execution_count": null,
      "metadata": {
        "id": "d3c7a2c2"
      },
      "outputs": [],
      "source": [],
      "id": "d3c7a2c2"
    },
    {
      "cell_type": "code",
      "execution_count": null,
      "metadata": {
        "id": "75803d98"
      },
      "outputs": [],
      "source": [],
      "id": "75803d98"
    },
    {
      "cell_type": "code",
      "execution_count": null,
      "metadata": {
        "id": "1102ec00"
      },
      "outputs": [],
      "source": [
        "WestBengal_df1"
      ],
      "id": "1102ec00"
    },
    {
      "cell_type": "code",
      "execution_count": null,
      "metadata": {
        "id": "4e1648f4"
      },
      "outputs": [],
      "source": [
        "#Gaussian Kernel\n",
        "def gauss(x,p,h):\n",
        "    return np.exp(-(np.power((x-p)/h,2)))/(np.sqrt(2*np.pi))"
      ],
      "id": "4e1648f4"
    },
    {
      "cell_type": "code",
      "execution_count": null,
      "metadata": {
        "id": "5f5bc77e"
      },
      "outputs": [],
      "source": [
        "#Ordered Discrete Kernel\n",
        "def ordered(x,p,h):\n",
        "    return np.power(h,np.absolute(x-p))"
      ],
      "id": "5f5bc77e"
    },
    {
      "cell_type": "code",
      "execution_count": null,
      "metadata": {
        "code_folding": [],
        "id": "89b1e72d"
      },
      "outputs": [],
      "source": [
        "def predicted(wc,q901r1,height,muac,wi,q104,q102,state_weight_survey, df, h,c,o):\n",
        "    pred = 0\n",
        "    loo_pred = 0\n",
        "    sum_kernels = 0\n",
        "    \"\"\"print(wc)\n",
        "    print(q901r1)\n",
        "    print(height)\n",
        "    print(muac)\n",
        "    print(wi)\n",
        "    print(q104)\n",
        "    print(q102)\n",
        "    print(state_weight_survey)\"\"\"\n",
        "    for i in range(0,len(df)):\n",
        "        pred = pred + final_df.iloc[i]['wc']*gauss(final_df.iloc[i]['q901r1'],wc,h)*gauss(final_df.iloc[i]['height'],height,h)*gauss(final_df.iloc[i]['muac'],muac,h)*cat(final_df.iloc[i]['q102'],q102,c,2)*cat(final_df.iloc[i]['wi'],wi,c,2)*ordered(final_df.iloc[i]['q104'],q104,o)*final_df.iloc[i]['state_weight_survey']\n",
        "        sum_kernels = sum_kernels + gauss(final_df.iloc[i]['q901r1'],q901r1,h)*gauss(final_df.iloc[i]['height'],height,h)*gauss(final_df.iloc[i]['muac'],muac,h)*cat(final_df.iloc[i]['q102'],q102,c,2)*cat(final_df.iloc[i]['wi'],wi,c,2)*ordered(final_df.iloc[i]['q104'],q104,o)*final_df.iloc[i]['state_weight_survey']\n",
        "\n",
        "\n",
        "    final_pred = pred/sum_kernels\n",
        "    loo_pred = pred - wc*gauss(q901r1,q901r1,h)*gauss(height,height,h)*gauss(muac,muac,h)*cat(q102,q102,c,2)*cat(wi,wi,c,2)*ordered(q104,q104,o)*state_weight_survey\n",
        "    loo_pred = loo_pred/(sum_kernels - gauss(q901r1,q901r1,h)*gauss(height,height,h)*gauss(muac,muac,h)*cat(q102,q102,c,2)*cat(wi,wi,c,2)*ordered(q104,q104,o)*state_weight_survey)\n",
        "\n",
        "    #print(final_pred)\n",
        "    #print(loo_pred)\n",
        "    return final_pred, loo_pred"
      ],
      "id": "89b1e72d"
    },
    {
      "cell_type": "code",
      "execution_count": null,
      "metadata": {
        "id": "b920e37f"
      },
      "outputs": [],
      "source": [
        "#bw = 0.1 ,c = 1 ,o = 0.5\n",
        "h=35\n",
        "c=0.45\n",
        "o=0.9\n",
        "pred_list = []\n",
        "loo_pred_list = []\n",
        "pred_error = []\n",
        "for i in range(0,len(final_df)):\n",
        "    pred,loo = predicted(final_df.iloc[i]['wc'],final_df.iloc[i]['q901r1'],final_df.iloc[i]['height'],final_df.iloc[i]['muac'],final_df.iloc[i]['wi'],final_df.iloc[i]['q104'],final_df.iloc[i]['q102'],final_df.iloc[i]['state_weight_survey'],final_df,h,c,o)\n",
        "    #print(pred)\n",
        "    #print(loo)\n",
        "    pred_list.append(pred)\n",
        "    loo_pred_list.append(loo)\n",
        "    pred_error.append(np.power(final_df.iloc[i]['wc']-loo,2))\n",
        "\n",
        "final_df['pred'] = pred_list\n",
        "final_df['loo'] = loo_pred_list\n",
        "final_df['error'] = pred_error\n",
        "\n",
        "\n",
        "\n",
        "print(final_df)\n",
        "#print(pred_values)"
      ],
      "id": "b920e37f"
    },
    {
      "cell_type": "code",
      "execution_count": null,
      "metadata": {
        "id": "7d158c55"
      },
      "outputs": [],
      "source": [
        "print(final_df)\n",
        "mean_pred_error = final_df[\"error\"].mean()\n",
        "print(mean_pred_error)"
      ],
      "id": "7d158c55"
    },
    {
      "cell_type": "code",
      "execution_count": null,
      "metadata": {
        "id": "bba096c7"
      },
      "outputs": [],
      "source": [
        "import matplotlib.pyplot as plt\n",
        "\n",
        "height = [172, 171, 174, 169, 172, 173, 173, 177, 182, 180,\n",
        "          181, 179, 183, 181, 186, 184, 185, 189, 184, 187]\n",
        "shoe = [8.5, 7.0, 8.0, 8.0, 7.5, 9.0, 8.5, 8.0, 10.0, 9.5,\n",
        "        9.5, 8.0, 11.0, 9.5, 12.0, 11.5, 9.5, 12.0, 9.5, 11.0]"
      ],
      "id": "bba096c7"
    },
    {
      "cell_type": "code",
      "execution_count": null,
      "metadata": {
        "id": "e4c275a3",
        "outputId": "ebf6d4ea-9c28-4de5-8b68-1a3c2733e336"
      },
      "outputs": [
        {
          "data": {
            "text/plain": [
              "[<matplotlib.lines.Line2D at 0x7fe78e2570d0>]"
            ]
          },
          "execution_count": 2,
          "metadata": {},
          "output_type": "execute_result"
        },
        {
          "data": {
            "image/png": "[encoded data removed]",
            "text/plain": [
              "<Figure size 432x288 with 1 Axes>"
            ]
          },
          "metadata": {
            "needs_background": "light"
          },
          "output_type": "display_data"
        }
      ],
      "source": [
        "plt.plot(height, shoe, 'bo')\n",
        "plt.plot([169, 189], [7.23, 11.48], 'k--')"
      ],
      "id": "e4c275a3"
    },
    {
      "cell_type": "code",
      "execution_count": null,
      "metadata": {
        "id": "d6770eaa",
        "outputId": "84c19ab2-a629-490f-eeea-23f64446e561"
      },
      "outputs": [
        {
          "ename": "SyntaxError",
          "evalue": "unexpected EOF while parsing (<unknown>, line 1)",
          "output_type": "error",
          "traceback": [
            "Traceback \u001b[0;36m(most recent call last)\u001b[0m:\n",
            "  File \u001b[1;32m\"/opt/conda/lib/python3.9/site-packages/IPython/core/interactiveshell.py\"\u001b[0m, line \u001b[1;32m3444\u001b[0m, in \u001b[1;35mrun_code\u001b[0m\n    exec(code_obj, self.user_global_ns, self.user_ns)\n",
            "  File \u001b[1;32m\"/tmp/ipykernel_32/2335914030.py\"\u001b[0m, line \u001b[1;32m1\u001b[0m, in \u001b[1;35m<module>\u001b[0m\n    mod = smf.quantreg(\"rbcf_1unic ~ @_zbfa\", cont_df2)\n",
            "  File \u001b[1;32m\"/opt/conda/lib/python3.9/site-packages/statsmodels/base/model.py\"\u001b[0m, line \u001b[1;32m200\u001b[0m, in \u001b[1;35mfrom_formula\u001b[0m\n    tmp = handle_formula_data(data, None, formula, depth=eval_env,\n",
            "  File \u001b[1;32m\"/opt/conda/lib/python3.9/site-packages/statsmodels/formula/formulatools.py\"\u001b[0m, line \u001b[1;32m63\u001b[0m, in \u001b[1;35mhandle_formula_data\u001b[0m\n    result = dmatrices(formula, Y, depth, return_type='dataframe',\n",
            "  File \u001b[1;32m\"/opt/conda/lib/python3.9/site-packages/patsy/highlevel.py\"\u001b[0m, line \u001b[1;32m309\u001b[0m, in \u001b[1;35mdmatrices\u001b[0m\n    (lhs, rhs) = _do_highlevel_design(formula_like, data, eval_env,\n",
            "  File \u001b[1;32m\"/opt/conda/lib/python3.9/site-packages/patsy/highlevel.py\"\u001b[0m, line \u001b[1;32m164\u001b[0m, in \u001b[1;35m_do_highlevel_design\u001b[0m\n    design_infos = _try_incr_builders(formula_like, data_iter_maker, eval_env,\n",
            "  File \u001b[1;32m\"/opt/conda/lib/python3.9/site-packages/patsy/highlevel.py\"\u001b[0m, line \u001b[1;32m66\u001b[0m, in \u001b[1;35m_try_incr_builders\u001b[0m\n    return design_matrix_builders([formula_like.lhs_termlist,\n",
            "  File \u001b[1;32m\"/opt/conda/lib/python3.9/site-packages/patsy/build.py\"\u001b[0m, line \u001b[1;32m689\u001b[0m, in \u001b[1;35mdesign_matrix_builders\u001b[0m\n    factor_states = _factors_memorize(all_factors, data_iter_maker, eval_env)\n",
            "  File \u001b[1;32m\"/opt/conda/lib/python3.9/site-packages/patsy/build.py\"\u001b[0m, line \u001b[1;32m354\u001b[0m, in \u001b[1;35m_factors_memorize\u001b[0m\n    which_pass = factor.memorize_passes_needed(state, eval_env)\n",
            "  File \u001b[1;32m\"/opt/conda/lib/python3.9/site-packages/patsy/eval.py\"\u001b[0m, line \u001b[1;32m474\u001b[0m, in \u001b[1;35mmemorize_passes_needed\u001b[0m\n    subset_names = [name for name in ast_names(self.code)\n",
            "  File \u001b[1;32m\"/opt/conda/lib/python3.9/site-packages/patsy/eval.py\"\u001b[0m, line \u001b[1;32m474\u001b[0m, in \u001b[1;35m<listcomp>\u001b[0m\n    subset_names = [name for name in ast_names(self.code)\n",
            "  File \u001b[1;32m\"/opt/conda/lib/python3.9/site-packages/patsy/eval.py\"\u001b[0m, line \u001b[1;32m105\u001b[0m, in \u001b[1;35mast_names\u001b[0m\n    for node in ast.walk(ast.parse(code)):\n",
            "\u001b[0;36m  File \u001b[0;32m\"/opt/conda/lib/python3.9/ast.py\"\u001b[0;36m, line \u001b[0;32m50\u001b[0;36m, in \u001b[0;35mparse\u001b[0;36m\u001b[0m\n\u001b[0;31m    return compile(source, filename, mode, flags,\u001b[0m\n",
            "\u001b[0;36m  File \u001b[0;32m\"<unknown>\"\u001b[0;36m, line \u001b[0;32m1\u001b[0m\n\u001b[0;31m    @_zbfa\u001b[0m\n\u001b[0m          ^\u001b[0m\n\u001b[0;31mSyntaxError\u001b[0m\u001b[0;31m:\u001b[0m unexpected EOF while parsing\n"
          ]
        }
      ],
      "source": [
        "mod = smf.quantreg(\"rbcf_1unic ~ @_zbfa\",cont_df2)\n",
        "res = mod.fit(q=0.2)\n",
        "print(res.summary())"
      ],
      "id": "d6770eaa"
    },
    {
      "cell_type": "markdown",
      "source": [],
      "metadata": {
        "id": "c1jvDK-6UZJ6"
      },
      "id": "c1jvDK-6UZJ6"
    },
    {
      "cell_type": "markdown",
      "source": [
        "# Childhood Obesity and its determinants"
      ],
      "metadata": {
        "id": "BJGDunWt5KRR"
      },
      "id": "BJGDunWt5KRR"
    },
    {
      "cell_type": "markdown",
      "id": "ec47a117",
      "metadata": {
        "id": "ec47a117"
      },
      "source": [
        "2. Question - **Childhood Obesity and its determinants** :  \n",
        "    Two indicators of obesity :  BMI and waist circumference\n",
        "    Determinants considered -  Diet : glucose, cholesterol, types of eating,  Socio-economic Status (SES): rural urban, gender, age\n",
        "\n",
        "    Finding -\n",
        "\n",
        "    **Parametric model** - Apart from area, all variable has positive association with Childhood obesity. No causal statements are made.\n",
        "\n",
        "    **Semi-parametric model** - Use two models - Partially Linear model and Ichimura single index model"
      ]
    },
    {
      "cell_type": "markdown",
      "source": [
        "## Parametric Methods - WLS"
      ],
      "metadata": {
        "id": "DG4ZSDy_8bfU"
      },
      "id": "DG4ZSDy_8bfU"
    },
    {
      "cell_type": "code",
      "execution_count": null,
      "id": "1300c4ef",
      "metadata": {
        "id": "1300c4ef",
        "outputId": "b2a09d5b-bd29-48a2-fbcf-a8d9d3ee4796"
      },
      "outputs": [
        {
          "name": "stdout",
          "output_type": "stream",
          "text": [
            "                            OLS Regression Results                            \n",
            "==============================================================================\n",
            "Dep. Variable:                     wc   R-squared:                       0.182\n",
            "Model:                            OLS   Adj. R-squared:                  0.179\n",
            "Method:                 Least Squares   F-statistic:                     50.72\n",
            "Date:                Sat, 01 Apr 2023   Prob (F-statistic):           1.56e-47\n",
            "Time:                        21:32:17   Log-Likelihood:                -4303.7\n",
            "No. Observations:                1145   AIC:                             8619.\n",
            "Df Residuals:                    1139   BIC:                             8650.\n",
            "Df Model:                           5                                         \n",
            "Covariance Type:            nonrobust                                         \n",
            "==============================================================================\n",
            "                 coef    std err          t      P>|t|      [0.025      0.975]\n",
            "------------------------------------------------------------------------------\n",
            "const         42.2790      1.900     22.256      0.000      38.552      46.006\n",
            "area_D        -3.3643      0.652     -5.156      0.000      -4.644      -2.084\n",
            "q104           1.4915      0.111     13.430      0.000       1.274       1.709\n",
            "q102_D         0.9879      0.620      1.594      0.111      -0.228       2.204\n",
            "q306a          0.3380      0.152      2.219      0.027       0.039       0.637\n",
            "q306p          0.7218      0.183      3.944      0.000       0.363       1.081\n",
            "==============================================================================\n",
            "Omnibus:                      198.249   Durbin-Watson:                   1.735\n",
            "Prob(Omnibus):                  0.000   Jarque-Bera (JB):             1731.322\n",
            "Skew:                           0.522   Prob(JB):                         0.00\n",
            "Kurtosis:                       8.933   Cond. No.                         98.2\n",
            "==============================================================================\n",
            "\n",
            "Notes:\n",
            "[1] Standard Errors assume that the covariance matrix of the errors is correctly specified.\n"
          ]
        }
      ],
      "source": [
        "\n",
        "X = cont_df1[['area_D','q104','q102_D','q306a', 'q306p']]\n",
        "Y = cont_df1[['wc']]\n",
        "\n",
        "X = sm.add_constant(X)\n",
        "Y = Y.astype(float)\n",
        "\n",
        "parameter_linear_model = sm.OLS(Y, X ).fit()\n",
        "print(parameter_linear_model.summary())\n",
        "\n",
        "\n",
        "# cereals, leafy veg, sweets"
      ]
    },
    {
      "cell_type": "code",
      "execution_count": null,
      "id": "14a29c12",
      "metadata": {
        "id": "14a29c12",
        "outputId": "96a8db62-fd98-4522-b9f7-4b58d74f5687"
      },
      "outputs": [
        {
          "data": {
            "text/plain": [
              "123332.58396730688"
            ]
          },
          "execution_count": 103,
          "metadata": {},
          "output_type": "execute_result"
        }
      ],
      "source": [
        "residuals_linear = parameter_linear_model.resid\n",
        "MSE_parm = np.sum(residuals_linear**2)\n",
        "MSE_parm"
      ]
    },
    {
      "cell_type": "code",
      "execution_count": null,
      "id": "8f79fb4f",
      "metadata": {
        "id": "8f79fb4f"
      },
      "outputs": [],
      "source": [
        "y_pred_param = parameter_linear_model.predict(X)"
      ]
    },
    {
      "cell_type": "code",
      "execution_count": null,
      "id": "85e0b24e",
      "metadata": {
        "scrolled": true,
        "id": "85e0b24e",
        "outputId": "4e2f50f8-f317-4293-9bba-45183dd00ef7"
      },
      "outputs": [
        {
          "name": "stdout",
          "output_type": "stream",
          "text": [
            "                            OLS Regression Results                            \n",
            "==============================================================================\n",
            "Dep. Variable:                     wc   R-squared:                       0.182\n",
            "Model:                            OLS   Adj. R-squared:                  0.179\n",
            "Method:                 Least Squares   F-statistic:                     50.72\n",
            "Date:                Sat, 01 Apr 2023   Prob (F-statistic):           1.56e-47\n",
            "Time:                        21:32:25   Log-Likelihood:                -4303.7\n",
            "No. Observations:                1145   AIC:                             8619.\n",
            "Df Residuals:                    1139   BIC:                             8650.\n",
            "Df Model:                           5                                         \n",
            "Covariance Type:            nonrobust                                         \n",
            "==============================================================================\n",
            "                 coef    std err          t      P>|t|      [0.025      0.975]\n",
            "------------------------------------------------------------------------------\n",
            "const         42.2790      1.900     22.256      0.000      38.552      46.006\n",
            "area_D        -3.3643      0.652     -5.156      0.000      -4.644      -2.084\n",
            "q104           1.4915      0.111     13.430      0.000       1.274       1.709\n",
            "q102_D         0.9879      0.620      1.594      0.111      -0.228       2.204\n",
            "q306a          0.3380      0.152      2.219      0.027       0.039       0.637\n",
            "q306p          0.7218      0.183      3.944      0.000       0.363       1.081\n",
            "==============================================================================\n",
            "Omnibus:                      198.249   Durbin-Watson:                   1.735\n",
            "Prob(Omnibus):                  0.000   Jarque-Bera (JB):             1731.322\n",
            "Skew:                           0.522   Prob(JB):                         0.00\n",
            "Kurtosis:                       8.933   Cond. No.                         98.2\n",
            "==============================================================================\n",
            "\n",
            "Notes:\n",
            "[1] Standard Errors assume that the covariance matrix of the errors is correctly specified.\n"
          ]
        }
      ],
      "source": [
        "X = cont_df1[['area_D','q104','q102_D','q306a', 'q306p']]\n",
        "Y = cont_df1[['wc']]\n",
        "\n",
        "X = sm.add_constant(X)\n",
        "Y = Y.astype(float)\n",
        "\n",
        "parameter_linear_modelwls = sm.WLS(Y, X, weights=(WestBengal_df1[['state_weight_survey']])**(-1)).fit()\n",
        "print(parameter_linear_model.summary())\n",
        "\n",
        "\n",
        "# cereals, leafy veg, sweets"
      ]
    },
    {
      "cell_type": "code",
      "execution_count": null,
      "id": "f637cc0c",
      "metadata": {
        "id": "f637cc0c"
      },
      "outputs": [],
      "source": [
        "residuals_linearwls = parameter_linear_modelwls.resid"
      ]
    },
    {
      "cell_type": "code",
      "execution_count": null,
      "id": "dd897fb9",
      "metadata": {
        "id": "dd897fb9",
        "outputId": "6e382e6a-6a8f-4028-fc64-307c445327b7"
      },
      "outputs": [
        {
          "data": {
            "text/plain": [
              "125453.05473621096"
            ]
          },
          "execution_count": 106,
          "metadata": {},
          "output_type": "execute_result"
        }
      ],
      "source": [
        "MSE_parmwls = np.sum(residuals_linearwls**2)\n",
        "MSE_parmwls"
      ]
    },
    {
      "cell_type": "code",
      "execution_count": null,
      "id": "af35efed",
      "metadata": {
        "id": "af35efed"
      },
      "outputs": [],
      "source": [
        "cont_df2 =cont_df1[['area_D','q104','q102_D','q306a', 'q306p', 'q306q']]"
      ]
    },
    {
      "cell_type": "code",
      "execution_count": null,
      "id": "387bd595",
      "metadata": {
        "id": "387bd595"
      },
      "outputs": [],
      "source": [
        "corr_matrix = cont_df2.corr()"
      ]
    },
    {
      "cell_type": "code",
      "execution_count": null,
      "id": "dca04301",
      "metadata": {
        "id": "dca04301",
        "outputId": "c9b3d308-04f7-44e0-bde5-5aa870889708"
      },
      "outputs": [
        {
          "data": {
            "text/html": [
              "<div>\n",
              "<style scoped>\n",
              "    .dataframe tbody tr th:only-of-type {\n",
              "        vertical-align: middle;\n",
              "    }\n",
              "\n",
              "    .dataframe tbody tr th {\n",
              "        vertical-align: top;\n",
              "    }\n",
              "\n",
              "    .dataframe thead th {\n",
              "        text-align: right;\n",
              "    }\n",
              "</style>\n",
              "<table border=\"1\" class=\"dataframe\">\n",
              "  <thead>\n",
              "    <tr style=\"text-align: right;\">\n",
              "      <th></th>\n",
              "      <th>area_D</th>\n",
              "      <th>q104</th>\n",
              "      <th>q102_D</th>\n",
              "      <th>q306a</th>\n",
              "      <th>q306p</th>\n",
              "      <th>q306q</th>\n",
              "    </tr>\n",
              "  </thead>\n",
              "  <tbody>\n",
              "    <tr>\n",
              "      <th>area_D</th>\n",
              "      <td>1.000000</td>\n",
              "      <td>-0.030041</td>\n",
              "      <td>0.035774</td>\n",
              "      <td>-0.054972</td>\n",
              "      <td>-0.206205</td>\n",
              "      <td>-0.177617</td>\n",
              "    </tr>\n",
              "    <tr>\n",
              "      <th>q104</th>\n",
              "      <td>-0.030041</td>\n",
              "      <td>1.000000</td>\n",
              "      <td>0.008085</td>\n",
              "      <td>0.039538</td>\n",
              "      <td>0.029132</td>\n",
              "      <td>0.111522</td>\n",
              "    </tr>\n",
              "    <tr>\n",
              "      <th>q102_D</th>\n",
              "      <td>0.035774</td>\n",
              "      <td>0.008085</td>\n",
              "      <td>1.000000</td>\n",
              "      <td>-0.084535</td>\n",
              "      <td>0.070495</td>\n",
              "      <td>0.101144</td>\n",
              "    </tr>\n",
              "    <tr>\n",
              "      <th>q306a</th>\n",
              "      <td>-0.054972</td>\n",
              "      <td>0.039538</td>\n",
              "      <td>-0.084535</td>\n",
              "      <td>1.000000</td>\n",
              "      <td>0.045987</td>\n",
              "      <td>-0.046907</td>\n",
              "    </tr>\n",
              "    <tr>\n",
              "      <th>q306p</th>\n",
              "      <td>-0.206205</td>\n",
              "      <td>0.029132</td>\n",
              "      <td>0.070495</td>\n",
              "      <td>0.045987</td>\n",
              "      <td>1.000000</td>\n",
              "      <td>0.328941</td>\n",
              "    </tr>\n",
              "    <tr>\n",
              "      <th>q306q</th>\n",
              "      <td>-0.177617</td>\n",
              "      <td>0.111522</td>\n",
              "      <td>0.101144</td>\n",
              "      <td>-0.046907</td>\n",
              "      <td>0.328941</td>\n",
              "      <td>1.000000</td>\n",
              "    </tr>\n",
              "  </tbody>\n",
              "</table>\n",
              "</div>"
            ],
            "text/plain": [
              "          area_D      q104    q102_D     q306a     q306p     q306q\n",
              "area_D  1.000000 -0.030041  0.035774 -0.054972 -0.206205 -0.177617\n",
              "q104   -0.030041  1.000000  0.008085  0.039538  0.029132  0.111522\n",
              "q102_D  0.035774  0.008085  1.000000 -0.084535  0.070495  0.101144\n",
              "q306a  -0.054972  0.039538 -0.084535  1.000000  0.045987 -0.046907\n",
              "q306p  -0.206205  0.029132  0.070495  0.045987  1.000000  0.328941\n",
              "q306q  -0.177617  0.111522  0.101144 -0.046907  0.328941  1.000000"
            ]
          },
          "execution_count": 107,
          "metadata": {},
          "output_type": "execute_result"
        }
      ],
      "source": [
        "corr_matrix"
      ]
    },
    {
      "cell_type": "code",
      "execution_count": null,
      "id": "f0c97d09",
      "metadata": {
        "id": "f0c97d09",
        "outputId": "e819f6cf-2e73-4830-a60c-2e4f67486794"
      },
      "outputs": [
        {
          "data": {
            "text/plain": [
              "[('Lagrange multiplier statistic', 27.492878577931457),\n",
              " ('p-value', 0.1219579534781784),\n",
              " ('f-value', 1.3826308096484898),\n",
              " ('f p-value', 0.12084930463787821)]"
            ]
          },
          "execution_count": 40,
          "metadata": {},
          "output_type": "execute_result"
        }
      ],
      "source": [
        "name = [\"Lagrange multiplier statistic\", \"p-value\", \"f-value\", \"f p-value\"]\n",
        "test = sms.het_breuschpagan(parameter_linear_model.resid, parameter_linear_model.model.exog)\n",
        "lzip(name, test)"
      ]
    },
    {
      "cell_type": "code",
      "execution_count": null,
      "id": "9017264a",
      "metadata": {
        "id": "9017264a"
      },
      "outputs": [],
      "source": []
    },
    {
      "cell_type": "code",
      "execution_count": null,
      "id": "ea68b450",
      "metadata": {
        "id": "ea68b450"
      },
      "outputs": [],
      "source": [
        "import numpy as np\n",
        "import pandas as pd\n",
        "import statsmodels.api as sm\n",
        "import statsmodels.formula.api as smf\n",
        "import matplotlib.pyplot as plt\n"
      ]
    }
  ],
  "metadata": {
    "kernelspec": {
      "display_name": "Python 3 (ipykernel)",
      "language": "python",
      "name": "python3"
    },
    "language_info": {
      "codemirror_mode": {
        "name": "ipython",
        "version": 3
      },
      "file_extension": ".py",
      "mimetype": "text/x-python",
      "name": "python",
      "nbconvert_exporter": "python",
      "pygments_lexer": "ipython3",
      "version": "3.9.7"
    },
    "colab": {
      "provenance": [],
      "toc_visible": true
    }
  },
  "nbformat": 4,
  "nbformat_minor": 5
}